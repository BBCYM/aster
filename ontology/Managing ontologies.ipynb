{
 "cells": [
  {
   "cell_type": "markdown",
   "metadata": {},
   "source": [
    "document:\n",
    "https://pythonhosted.org/Owlready2/class.html\n",
    "\n",
    "中文論文:\n",
    "http://myweb.ncku.edu.tw/~ftlin/course/CAAD/CourseInformation/document/Ontology.pdf\n",
    "\n",
    "http://aber-owl.net/ontology/#/\n",
    "\n",
    "https://sites.google.com/site/ontoworks/ontologies\n",
    "\n",
    "http://owlapi.sourceforge.net/\n",
    "\n",
    "https://github.com/owlcs/pizza-ontology/blob/master/pizza.owl\n",
    "\n",
    "http://id.loc.gov/authorities/subjects/sh85038765.html\n",
    "\n",
    "https://www.w3.org/TR/owl-semantics/mapping.html\n",
    "\n",
    "http://www.ontobee.org/ontology/NCIT?iri=http://purl.obolibrary.org/obo/NCIT_C14182\n",
    "http://www.ontobee.org/ontology/FOODON?iri=http://purl.obolibrary.org/obo/FOODON_03510136\n",
    "\n",
    "Formal documentation\n",
    "https://readthedocs.org/projects/owlready2/downloads/pdf/latest/\n",
    "\n",
    "GUI ontology\n",
    "http://www.visualdataweb.de/webvowl/#iri=http://www.lesfleursdunormal.fr/static/_downloads/pizza_onto.owl"
   ]
  },
  {
   "cell_type": "code",
   "execution_count": 1,
   "metadata": {},
   "outputs": [],
   "source": [
    "from owlready2 import *"
   ]
  },
  {
   "cell_type": "code",
   "execution_count": 2,
   "metadata": {
    "slideshow": {
     "slide_type": "subslide"
    }
   },
   "outputs": [],
   "source": [
    "#從網路上抓\n",
    "onto = get_ontology(\"http://www.lesfleursdunormal.fr/static/_downloads/pizza_onto.owl\").load()\n",
    "#從硬碟抓\n",
    "#onto = get_ontology(\"file:///home/jiba/onto/pizza_onto.owl\")\n",
    "#onto.load()"
   ]
  },
  {
   "cell_type": "code",
   "execution_count": 3,
   "metadata": {
    "scrolled": false,
    "slideshow": {
     "slide_type": "subslide"
    }
   },
   "outputs": [
    {
     "name": "stdout",
     "output_type": "stream",
     "text": [
      "get_ontology(\"http://www.lesfleursdunormal.fr/static/_downloads/pizza_onto.owl#\")\n",
      "pizza_onto.Pizza\n",
      "pizza_onto.Pizza\n"
     ]
    }
   ],
   "source": [
    "print(onto)\n",
    "print(onto.Pizza)\n",
    "print(onto[\"Pizza\"])\n",
    "#print(onto[\"pizza\"]) 這個不行 ontology is case sensitive"
   ]
  },
  {
   "cell_type": "code",
   "execution_count": 4,
   "metadata": {},
   "outputs": [
    {
     "name": "stdout",
     "output_type": "stream",
     "text": [
      "<class 'method'>\n",
      "onto.classes:\n",
      "\tpizza_onto.CheeseTopping\n",
      "\tpizza_onto.FishTopping\n",
      "\tpizza_onto.MeatTopping\n",
      "\tpizza_onto.Pizza\n",
      "\tpizza_onto.TomatoTopping\n",
      "\tpizza_onto.Topping\n"
     ]
    },
    {
     "data": {
      "text/plain": [
       "<bound method _GraphManager.classes of get_ontology(\"http://www.lesfleursdunormal.fr/static/_downloads/pizza_onto.owl#\")>"
      ]
     },
     "execution_count": 4,
     "metadata": {},
     "output_type": "execute_result"
    }
   ],
   "source": [
    "newline = '\\n'\n",
    "print(f\"{type(onto.classes)}\\nonto.classes:\", *onto.classes(), sep='\\n\\t')\n",
    "onto.classes"
   ]
  },
  {
   "cell_type": "code",
   "execution_count": 6,
   "metadata": {},
   "outputs": [
    {
     "name": "stdout",
     "output_type": "stream",
     "text": [
      "None\n"
     ]
    }
   ],
   "source": [
    "print(onto.instances)"
   ]
  },
  {
   "cell_type": "code",
   "execution_count": 7,
   "metadata": {},
   "outputs": [],
   "source": [
    "with onto:\n",
    "    class NonVegetarianPizza(onto.Pizza):\n",
    "        equivalent_to = [onto.Pizza & ( onto.has_topping.some(onto.MeatTopping)| onto.has_topping.some(onto.FishTopping))]\n",
    "        def eat(self): \n",
    "            print(\"Beurk! I'm vegetarian!\")"
   ]
  },
  {
   "cell_type": "code",
   "execution_count": 8,
   "metadata": {},
   "outputs": [
    {
     "name": "stderr",
     "output_type": "stream",
     "text": [
      "* Owlready2 * Running HermiT...\n",
      "    java -Xmx2000M -cp /home/bbcym/anaconda3/lib/python3.7/site-packages/owlready2/hermit:/home/bbcym/anaconda3/lib/python3.7/site-packages/owlready2/hermit/HermiT.jar org.semanticweb.HermiT.cli.CommandLine -c -O -D -I file:////tmp/tmpa77qajqj\n"
     ]
    },
    {
     "name": "stdout",
     "output_type": "stream",
     "text": [
      "pizza_onto.NonVegetarianPizza\n",
      "Beurk! I'm vegetarian!\n"
     ]
    },
    {
     "name": "stderr",
     "output_type": "stream",
     "text": [
      "* Owlready2 * HermiT took 0.35175156593322754 seconds\n",
      "* Owlready * Reparenting pizza_onto.test_pizza_owl_identifier: {pizza_onto.Pizza} => {pizza_onto.NonVegetarianPizza}\n",
      "* Owlready * (NB: only changes on entities loaded in Python are shown, other changes are done but not listed)\n"
     ]
    }
   ],
   "source": [
    "test_pizza = onto.Pizza(\"test_pizza_owl_identifier\")\n",
    "test_pizza.has_topping = [ onto.CheeseTopping(),\n",
    "                           onto.TomatoTopping(),\n",
    "                           onto.MeatTopping() ]\n",
    "sync_reasoner()\n",
    "print(test_pizza.__class__)\n",
    "test_pizza.eat()"
   ]
  },
  {
   "cell_type": "code",
   "execution_count": 9,
   "metadata": {},
   "outputs": [
    {
     "name": "stdout",
     "output_type": "stream",
     "text": [
      "[pizza_onto.CheeseTopping, pizza_onto.FishTopping, pizza_onto.MeatTopping, pizza_onto.TomatoTopping, pizza_onto.Topping]\n"
     ]
    }
   ],
   "source": [
    "print(onto.search(iri = \"*Topping\"))"
   ]
  },
  {
   "cell_type": "code",
   "execution_count": 10,
   "metadata": {},
   "outputs": [
    {
     "name": "stdout",
     "output_type": "stream",
     "text": [
      "[pizza_onto.test_pizza_owl_identifier]\n"
     ]
    }
   ],
   "source": [
    "print(onto.search(has_topping = \"*\"))"
   ]
  },
  {
   "cell_type": "code",
   "execution_count": 11,
   "metadata": {},
   "outputs": [],
   "source": [
    "onto.search_one(label = \"XXXX\")"
   ]
  },
  {
   "cell_type": "code",
   "execution_count": 12,
   "metadata": {},
   "outputs": [],
   "source": [
    "#append other ontology\n",
    "#onto.imported_ontologies.append(owlready_ontology)\n",
    "#save ontology\n",
    "#onto.save()\n",
    "#onto.save(file = \"filename or fileobj\", format = \"rdfxml\")"
   ]
  },
  {
   "cell_type": "code",
   "execution_count": null,
   "metadata": {},
   "outputs": [],
   "source": []
  }
 ],
 "metadata": {
  "kernelspec": {
   "display_name": "Python 3",
   "language": "python",
   "name": "python3"
  },
  "language_info": {
   "codemirror_mode": {
    "name": "ipython",
    "version": 3
   },
   "file_extension": ".py",
   "mimetype": "text/x-python",
   "name": "python",
   "nbconvert_exporter": "python",
   "pygments_lexer": "ipython3",
   "version": "3.7.6"
  }
 },
 "nbformat": 4,
 "nbformat_minor": 4
}
