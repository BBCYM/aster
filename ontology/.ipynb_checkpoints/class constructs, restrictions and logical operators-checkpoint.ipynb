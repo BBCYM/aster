{
 "cells": [
  {
   "cell_type": "code",
   "execution_count": 2,
   "metadata": {},
   "outputs": [],
   "source": [
    "from owlready2 import *\n",
    "onto = get_ontology(\"http://test.org/onto.owl\")"
   ]
  },
  {
   "cell_type": "code",
   "execution_count": 3,
   "metadata": {},
   "outputs": [],
   "source": [
    "with onto:\n",
    "    class Drug(Thing):\n",
    "        pass\n",
    "    class ActivePrinciple(Thing):\n",
    "        pass\n",
    "    class has_for_active_principle(Drug >> ActivePrinciple):\n",
    "        pass"
   ]
  },
  {
   "cell_type": "code",
   "execution_count": 4,
   "metadata": {},
   "outputs": [],
   "source": [
    "#NonPlaceboDrug is a Drug with an Active Principle\n",
    "class NonPlaceboDrug(Drug):\n",
    "    equivalent_to = [Drug & has_for_active_principle.some(ActivePrinciple)]\n",
    "\n",
    "##PlaceboDrug is a Drug with no Active Principle\n",
    "class Placebo(Drug):\n",
    "    equivalent_to = [Drug & Not(has_for_active_principle.some(ActivePrinciple))]"
   ]
  },
  {
   "cell_type": "code",
   "execution_count": 8,
   "metadata": {},
   "outputs": [],
   "source": [
    "with onto:\n",
    "    #Association Drug is a Drug that associates two or more Active Principle\n",
    "    class DrugAssociation(Drug):\n",
    "        equivalent_to = [Drug & has_for_active_principle.min(2, ActivePrinciple)]"
   ]
  },
  {
   "cell_type": "code",
   "execution_count": null,
   "metadata": {},
   "outputs": [],
   "source": [
    "'''\n",
    "these two are equivalent:\n",
    "\n",
    "    class MyClass(Thing):\n",
    "        is_a = [my_property.some(Value)]\n",
    "    \n",
    "    class MyClass(Thing):\n",
    "        equivalent_to = [my_property.some(Value)]\n",
    "        \n",
    "'''"
   ]
  },
  {
   "cell_type": "code",
   "execution_count": 13,
   "metadata": {},
   "outputs": [
    {
     "name": "stdout",
     "output_type": "stream",
     "text": [
      "[onto.ActivePrinciple]\n",
      "[]\n",
      "[]\n",
      "[onto.ActivePrinciple]\n"
     ]
    }
   ],
   "source": [
    "print(NonPlaceboDrug.has_for_active_principle)\n",
    "print(Placebo.has_for_active_principle)\n",
    "print(Placebo.INDIRECT_has_for_active_principle)\n",
    "print(DrugAssociation.has_for_active_principle)"
   ]
  },
  {
   "cell_type": "code",
   "execution_count": 24,
   "metadata": {},
   "outputs": [],
   "source": [
    "with onto:\n",
    "    class is_bad(ObjectProperty):\n",
    "        pass\n",
    "    class Poison(Thing):\n",
    "        is_a = [is_bad.some(Drug)]"
   ]
  },
  {
   "cell_type": "code",
   "execution_count": 39,
   "metadata": {},
   "outputs": [
    {
     "name": "stdout",
     "output_type": "stream",
     "text": [
      "onto.Poison\n",
      "[onto.Drug]\n",
      "[owl.Thing, onto.is_bad.some(onto.Drug)]\n"
     ]
    }
   ],
   "source": [
    "print(Poison)\n",
    "print(Poison.is_bad)\n",
    "print(Poison.is_a)"
   ]
  },
  {
   "cell_type": "code",
   "execution_count": 52,
   "metadata": {},
   "outputs": [],
   "source": [
    "Poison.is_a.append(has_for_active_principle.some(ActivePrinciple))\n",
    "Poison.equivalent_to.append(has_for_active_principle.some(ActivePrinciple))"
   ]
  },
  {
   "cell_type": "code",
   "execution_count": 53,
   "metadata": {},
   "outputs": [
    {
     "name": "stdout",
     "output_type": "stream",
     "text": [
      "onto.Poison\n",
      "[onto.Drug]\n",
      "[owl.Thing, onto.is_bad.some(onto.Drug), onto.has_for_active_principle.some(onto.ActivePrinciple), onto.has_for_active_principle.some(onto.ActivePrinciple)]\n",
      "[onto.ActivePrinciple]\n",
      "[onto.has_for_active_principle.some(onto.ActivePrinciple)]\n"
     ]
    }
   ],
   "source": [
    "print(Poison)\n",
    "print(Poison.is_bad)\n",
    "print(Poison.is_a)\n",
    "print(Poison.has_for_active_principle)\n",
    "print(Poison.equivalent_to)"
   ]
  },
  {
   "cell_type": "code",
   "execution_count": null,
   "metadata": {},
   "outputs": [],
   "source": []
  },
  {
   "cell_type": "code",
   "execution_count": 56,
   "metadata": {},
   "outputs": [],
   "source": [
    "onto2 = get_ontology(\"http://test.org/onto2.owl\")\n",
    "\n",
    "with onto2:\n",
    "    class Drug(Thing): pass\n",
    "    class ActivePrinciple(Thing): pass\n",
    "    class has_for_active_principle(Drug >> ActivePrinciple): pass\n",
    "    \n",
    "    class HealthCondition(Thing): pass\n",
    "    class Pain(HealthCondition): pass\n",
    "    class ModeratePain(Pain): pass\n",
    "    class CardiacDisorder(HealthCondition): pass\n",
    "    class Hypertension(CardiacDisorder): pass\n",
    "    \n",
    "    class Pregnancy(HealthCondition): pass\n",
    "    class Child(HealthCondition): pass\n",
    "    class Bleeding(HealthCondition): pass\n",
    "    \n",
    "    class has_for_indications (Drug >> HealthCondition):\n",
    "        class_property_type = [\"some\"]\n",
    "    class has_for_contraindications (Drug >> HealthCondition):\n",
    "        class_property_type = [\"only\"]\n",
    "        \n",
    "    class Antalgic(Drug):\n",
    "        defined_class = True\n",
    "        has_for_indications = [Pain]\n",
    "        has_for_contraindications = [Pregnancy, Child, Bleeding]\n",
    "    \n",
    "    class Aspirin(Antalgic):\n",
    "        defined_class = True\n",
    "        has_for_indications = [ModeratePain]\n",
    "        has_for_contraindications = [Pregnancy, Bleeding]"
   ]
  },
  {
   "cell_type": "code",
   "execution_count": 59,
   "metadata": {},
   "outputs": [
    {
     "name": "stdout",
     "output_type": "stream",
     "text": [
      "[onto2.Drug & onto2.has_for_indications.some(onto2.Pain) & onto2.has_for_contraindications.only(onto2.Child | onto2.Pregnancy | onto2.Bleeding)]\n",
      "[onto2.Antalgic & onto2.has_for_indications.some(onto2.ModeratePain) & onto2.has_for_contraindications.only(onto2.Bleeding | onto2.Pregnancy)]\n"
     ]
    }
   ],
   "source": [
    "print(Antalgic.equivalent_to)\n",
    "\n",
    "print(Aspirin.equivalent_to)"
   ]
  },
  {
   "cell_type": "code",
   "execution_count": 60,
   "metadata": {},
   "outputs": [],
   "source": [
    "with onto2:\n",
    "    class Antihypertensive(Drug):\n",
    "        equivalent_to = [Drug\n",
    "                        & has_for_indications.some(Hypertension)\n",
    "                        & has_for_contraindications.only(Pregnancy)]\n"
   ]
  },
  {
   "cell_type": "code",
   "execution_count": 61,
   "metadata": {},
   "outputs": [
    {
     "name": "stdout",
     "output_type": "stream",
     "text": [
      "[onto2.Hypertension]\n"
     ]
    }
   ],
   "source": [
    "print(Antihypertensive.has_for_indications)"
   ]
  },
  {
   "cell_type": "code",
   "execution_count": 62,
   "metadata": {},
   "outputs": [
    {
     "name": "stdout",
     "output_type": "stream",
     "text": [
      "[onto2.Pregnancy]\n"
     ]
    }
   ],
   "source": [
    "print(Antihypertensive.has_for_contraindications)"
   ]
  },
  {
   "cell_type": "code",
   "execution_count": null,
   "metadata": {},
   "outputs": [],
   "source": []
  }
 ],
 "metadata": {
  "kernelspec": {
   "display_name": "Python 3",
   "language": "python",
   "name": "python3"
  },
  "language_info": {
   "codemirror_mode": {
    "name": "ipython",
    "version": 3
   },
   "file_extension": ".py",
   "mimetype": "text/x-python",
   "name": "python",
   "nbconvert_exporter": "python",
   "pygments_lexer": "ipython3",
   "version": "3.7.6"
  }
 },
 "nbformat": 4,
 "nbformat_minor": 4
}
