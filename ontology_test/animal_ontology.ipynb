{
 "cells": [
  {
   "cell_type": "code",
   "execution_count": 22,
   "metadata": {},
   "outputs": [],
   "source": [
    "from googletrans import Translator as g_translator\n",
    "translator = g_translator()\n",
    "\n",
    "def print_breed(breed_list):\n",
    "    for i in breed_list:\n",
    "        ch = translator.translate(i, dest=\"zh-tw\").text\n",
    "        print(ch)"
   ]
  },
  {
   "cell_type": "code",
   "execution_count": 51,
   "metadata": {},
   "outputs": [
    {
     "data": {
      "text/plain": [
       "[['Russian Blue',\n",
       "  None,\n",
       "  [['俄羅斯藍', 0, True, False], ['俄羅斯藍貓', 0, True, False]],\n",
       "  [[0, 12]],\n",
       "  'Russian Blue',\n",
       "  0,\n",
       "  0]]"
      ]
     },
     "execution_count": 51,
     "metadata": {},
     "output_type": "execute_result"
    }
   ],
   "source": [
    "translator.translate(cat_breed[-3], dest=\"zh-tw\").extra_data['possible-translations']"
   ]
  },
  {
   "cell_type": "code",
   "execution_count": 54,
   "metadata": {},
   "outputs": [
    {
     "data": {
      "text/plain": [
       "[['Siamese',\n",
       "  None,\n",
       "  [['連體', 0, True, False], ['暹', 0, True, False]],\n",
       "  [[0, 7]],\n",
       "  'Siamese',\n",
       "  0,\n",
       "  0]]"
      ]
     },
     "execution_count": 54,
     "metadata": {},
     "output_type": "execute_result"
    }
   ],
   "source": [
    "translator.translate(cat_breed[-2], dest=\"zh-tw\").extra_data['possible-translations']"
   ]
  },
  {
   "cell_type": "code",
   "execution_count": 56,
   "metadata": {},
   "outputs": [
    {
     "data": {
      "text/plain": [
       "[['形容詞',\n",
       "  [['of or concerning Siam, its people, or language.',\n",
       "    'm_en_gbus0941970.018']],\n",
       "  'Siamese'],\n",
       " ['名詞',\n",
       "  [['a native of Siam (now Thailand).', 'm_en_gbus0941970.006'],\n",
       "   ['old-fashioned term for Thai (the language).', 'm_en_gbus0941970.010'],\n",
       "   ['a cat of a lightly built short-haired breed characterized by slanting blue eyes and typically pale fur with darker points.',\n",
       "    'm_en_gbus0941970.013']],\n",
       "  'Siamese']]"
      ]
     },
     "execution_count": 56,
     "metadata": {},
     "output_type": "execute_result"
    }
   ],
   "source": [
    "translator.translate(cat_breed[-2], dest=\"zh-tw\").extra_data['definitions']"
   ]
  },
  {
   "cell_type": "code",
   "execution_count": 55,
   "metadata": {},
   "outputs": [
    {
     "data": {
      "text/plain": [
       "[['名詞',\n",
       "  [['a cat of a breed with short grayish-blue fur, green eyes, and large pointed ears.',\n",
       "    'm_en_gbus0889580.003']],\n",
       "  'Russian Blue']]"
      ]
     },
     "execution_count": 55,
     "metadata": {},
     "output_type": "execute_result"
    }
   ],
   "source": [
    "translator.translate(cat_breed[-3], dest=\"zh-tw\").extra_data['definitions']"
   ]
  },
  {
   "cell_type": "code",
   "execution_count": 14,
   "metadata": {},
   "outputs": [],
   "source": [
    "All_breed = [\"Abyssinian\", \"american bulldog\", \"american pit bull terrier\", \"basset hound\", \"beagle\", \"Bengal\", \"Birman\", \"Bombay\", \"boxer\", \"British Shorthair\", \"chihuahua\", \"Egyptian Mau\", \"english cocker spaniel\", \"english setter\", \"german shorthaired\", \"great pyrenees\", \"havanese\", \"japanese chin\", \"keeshond\", \"leonberger\", \"Maine Coon\", \"miniature pinscher\", \"newfoundland\", \"Persian\", \"pomeranian\", \"pug\", \"Ragdoll\", \"Russian Blue\", \"saint bernard\", \"samoyed\", \"scottish terrier\", \"shiba inu\", \"Siamese\", \"Sphynx\", \"staffordshire bull terrier\", \"wheaten terrier\", \"yorkshire terrier\"]\n",
    "cat_breed = [\"Abyssinian\",\n",
    "    \"Bengal\",\n",
    "    \"Birman\",\n",
    "    \"Bombay\",\n",
    "    \"British Shorthair\",\n",
    "    \"Egyptian Mau\",\n",
    "    \"Maine Coon\",\n",
    "    \"Persian\",\n",
    "    \"Ragdoll\",\n",
    "    \"Russian Blue\",\n",
    "    \"Siamese\",\n",
    "    \"Sphynx\"]\n",
    "\n",
    "dog_breed = ['american bulldog',\n",
    "    'american pit bull terrier',\n",
    "    'basset hound',\n",
    "    'beagle',\n",
    "    'boxer',\n",
    "    'chihuahua',\n",
    "    'english cocker spaniel',\n",
    "    'english setter',\n",
    "    'german shorthaired',\n",
    "    'great pyrenees',\n",
    "    'havanese',\n",
    "    'japanese chin',\n",
    "    'keeshond',\n",
    "    'leonberger',\n",
    "    'miniature pinscher',\n",
    "    'newfoundland',\n",
    "    'pomeranian',\n",
    "    'pug',\n",
    "    'saint bernard',\n",
    "    'samoyed',\n",
    "    'scottish terrier',\n",
    "    'shiba inu',\n",
    "    'staffordshire bull terrier',\n",
    "    'wheaten terrier',\n",
    "    'yorkshire terrier']\n",
    "print(len(cat_breed), len(dog_breed))"
   ]
  },
  {
   "cell_type": "code",
   "execution_count": 23,
   "metadata": {},
   "outputs": [
    {
     "name": "stdout",
     "output_type": "stream",
     "text": [
      "美國鬥牛犬\n",
      "美國鬥牛犬\n",
      "巴吉度獵犬\n",
      "小獵犬\n",
      "拳擊手\n",
      "奇瓦瓦州\n",
      "英國可卡犬\n",
      "英語二傳手\n",
      "德國短毛\n",
      "大比利牛斯\n",
      "哈瓦那人\n",
      "日本下巴\n",
      "基斯洪德\n",
      "倫伯格\n",
      "迷你杜賓犬\n",
      "紐芬蘭\n",
      "博美犬\n",
      "哈巴狗\n",
      "聖伯納德\n",
      "薩摩耶\n",
      "蘇格蘭梗\n",
      "柴犬\n",
      "斯塔福德郡鬥牛犬\n",
      "麵食梗\n",
      "約克夏犬\n",
      "阿比西尼亞人\n",
      "孟加拉\n",
      "緬甸人\n",
      "孟買\n",
      "英國短毛貓\n",
      "埃及茂\n",
      "緬因庫恩\n",
      "波斯語\n",
      "布娃娃\n",
      "俄羅斯藍\n",
      "連體\n",
      "斯芬克斯\n"
     ]
    }
   ],
   "source": [
    "print_breed(dog_breed)\n",
    "print_breed(cat_breed)"
   ]
  },
  {
   "cell_type": "code",
   "execution_count": null,
   "metadata": {},
   "outputs": [],
   "source": []
  },
  {
   "cell_type": "code",
   "execution_count": 25,
   "metadata": {},
   "outputs": [
    {
     "name": "stderr",
     "output_type": "stream",
     "text": [
      "* Owlready2 * Warning: optimized Cython parser module 'owlready2_optimized' is not available, defaulting to slower Python implementation\n"
     ]
    }
   ],
   "source": [
    "from owlready2 import *\n",
    "onto_breed = get_ontology(\"http://test.org/onto.owl\")"
   ]
  },
  {
   "cell_type": "code",
   "execution_count": 26,
   "metadata": {},
   "outputs": [],
   "source": [
    "with onto_breed:\n",
    "    class Animal(Thing):\n",
    "        def explain(self): print('I am an Animal')\n",
    "    \n",
    "    class Breed(Thing):\n",
    "        def explain(self): print('I am a Breed')\n",
    "            \n",
    "    class Breed_belongs_to(ObjectProperty):\n",
    "        domain = [Breed]\n",
    "        range = [Animal]\n",
    "    \n",
    "    class Animal_has(ObjectProperty):\n",
    "        domain = [Animal]\n",
    "        range = [Breed]\n",
    "        inverse_property = Breed_belongs_to"
   ]
  },
  {
   "cell_type": "code",
   "execution_count": null,
   "metadata": {},
   "outputs": [],
   "source": []
  },
  {
   "cell_type": "code",
   "execution_count": null,
   "metadata": {},
   "outputs": [],
   "source": []
  },
  {
   "cell_type": "code",
   "execution_count": null,
   "metadata": {},
   "outputs": [],
   "source": [
    "onto_location.save(file = \"animal.owl\", format = \"rdfxml\")"
   ]
  }
 ],
 "metadata": {
  "kernelspec": {
   "display_name": "Python 3",
   "language": "python",
   "name": "python3"
  },
  "language_info": {
   "codemirror_mode": {
    "name": "ipython",
    "version": 3
   },
   "file_extension": ".py",
   "mimetype": "text/x-python",
   "name": "python",
   "nbconvert_exporter": "python",
   "pygments_lexer": "ipython3",
   "version": "3.7.1"
  }
 },
 "nbformat": 4,
 "nbformat_minor": 4
}
