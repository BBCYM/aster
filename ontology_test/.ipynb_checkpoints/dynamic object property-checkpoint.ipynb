{
 "cells": [
  {
   "cell_type": "markdown",
   "metadata": {},
   "source": [
    "Python setattr() 函数<br>\n",
    "https://www.runoob.com/python/python-func-setattr.html\n",
    "\n",
    "How to create relations dynamically<br>\n",
    "http://owlready.8326.n8.nabble.com/How-to-create-relations-dynamically-tc820.html\n",
    "\n",
    "How to dynamically create classes and individuals with owlready2?<br>\n",
    "https://stackoverflow.com/questions/54620145/how-to-dynamically-create-classes-and-individuals-with-owlready2\n",
    "\n",
    "owl doc of equivalent class<br>\n",
    "https://www.w3.org/TR/owl-ref/#equivalentClass-def"
   ]
  },
  {
   "cell_type": "code",
   "execution_count": 1,
   "metadata": {},
   "outputs": [],
   "source": [
    "from owlready2 import *\n",
    "onto = get_ontology(\"http://test.ort/onto.owl\")"
   ]
  },
  {
   "cell_type": "code",
   "execution_count": 2,
   "metadata": {},
   "outputs": [],
   "source": [
    "obj_prop = ['has_for_ingredient', 'has_side_efect']\n",
    "\n",
    "with onto:\n",
    "    class Drug(Thing):  pass\n",
    "\n",
    "my_drug = Drug(\"my_drug\")\n",
    "my_drug2 = Drug(\"my_drug2\")"
   ]
  },
  {
   "cell_type": "code",
   "execution_count": 3,
   "metadata": {},
   "outputs": [],
   "source": [
    "for prop in obj_prop :\n",
    "    setattr(my_drug, prop, [my_drug2])"
   ]
  },
  {
   "cell_type": "code",
   "execution_count": 4,
   "metadata": {},
   "outputs": [
    {
     "data": {
      "text/plain": [
       "{'namespace': get_ontology(\"http://test.ort/onto.owl#\"),\n",
       " '_name': 'my_drug',\n",
       " '_equivalent_to': None,\n",
       " 'storid': 304,\n",
       " 'is_a': [onto.Drug],\n",
       " 'has_for_ingredient': [onto.my_drug2],\n",
       " 'has_side_efect': [onto.my_drug2]}"
      ]
     },
     "execution_count": 4,
     "metadata": {},
     "output_type": "execute_result"
    }
   ],
   "source": [
    "my_drug.__dict__"
   ]
  },
  {
   "cell_type": "code",
   "execution_count": 5,
   "metadata": {},
   "outputs": [
    {
     "data": {
      "text/plain": [
       "{'namespace': get_ontology(\"http://test.ort/onto.owl#\"),\n",
       " '_name': 'my_drug2',\n",
       " '_equivalent_to': None,\n",
       " 'storid': 305,\n",
       " 'is_a': [onto.Drug]}"
      ]
     },
     "execution_count": 5,
     "metadata": {},
     "output_type": "execute_result"
    }
   ],
   "source": [
    "my_drug2.__dict__"
   ]
  },
  {
   "cell_type": "code",
   "execution_count": 45,
   "metadata": {},
   "outputs": [],
   "source": [
    "custom_prop = ['我家的', '可愛的', '討喜的']\n",
    "feeling_prop = ['feels']\n",
    "with onto:\n",
    "    class animal(Thing):\n",
    "        pass\n",
    "    class dog(animal):\n",
    "        pass\n",
    "    class hero(Thing):\n",
    "        pass\n",
    "    class feeling(Thing):\n",
    "        pass\n",
    "    class cute(feeling):\n",
    "        pass\n",
    "    class happy(feeling):\n",
    "        pass"
   ]
  },
  {
   "cell_type": "code",
   "execution_count": 7,
   "metadata": {},
   "outputs": [],
   "source": [
    "my_dog = animal(\"小白\")\n",
    "dog_breed = dog(\"哈士奇\")"
   ]
  },
  {
   "cell_type": "code",
   "execution_count": 8,
   "metadata": {},
   "outputs": [],
   "source": [
    "for prop in custom_prop :\n",
    "    setattr(dog_breed, prop, [my_dog])"
   ]
  },
  {
   "cell_type": "code",
   "execution_count": 9,
   "metadata": {},
   "outputs": [
    {
     "data": {
      "text/plain": [
       "{'namespace': get_ontology(\"http://test.ort/onto.owl#\"),\n",
       " '_name': '小白',\n",
       " '_equivalent_to': None,\n",
       " 'storid': 309,\n",
       " 'is_a': [onto.animal]}"
      ]
     },
     "execution_count": 9,
     "metadata": {},
     "output_type": "execute_result"
    }
   ],
   "source": [
    "my_dog.__dict__"
   ]
  },
  {
   "cell_type": "code",
   "execution_count": 10,
   "metadata": {},
   "outputs": [
    {
     "data": {
      "text/plain": [
       "{'namespace': get_ontology(\"http://test.ort/onto.owl#\"),\n",
       " '_name': '哈士奇',\n",
       " '_equivalent_to': None,\n",
       " 'storid': 310,\n",
       " 'is_a': [onto.dog],\n",
       " '我家的': [onto.小白],\n",
       " '可愛的': [onto.小白],\n",
       " '討喜的': [onto.小白]}"
      ]
     },
     "execution_count": 10,
     "metadata": {},
     "output_type": "execute_result"
    }
   ],
   "source": [
    "dog_breed.__dict__"
   ]
  },
  {
   "cell_type": "code",
   "execution_count": 11,
   "metadata": {},
   "outputs": [
    {
     "name": "stdout",
     "output_type": "stream",
     "text": [
      "{'namespace': get_ontology(\"http://test.ort/onto.owl#\"), '_name': '哈士奇', '_equivalent_to': None, 'storid': 310, 'is_a': [onto.dog], '我家的': [onto.小白], '可愛的': [onto.小白], '討喜的': [onto.小白]} \n",
      "\n",
      "{'namespace': get_ontology(\"http://test.ort/onto.owl#\"), '_name': '小白', '_equivalent_to': None, 'storid': 309, 'is_a': [onto.animal]} \n",
      "\n",
      "小白 type:<class 'str'>\n",
      "小白 type:<class 'str'>\n"
     ]
    }
   ],
   "source": [
    "print(dog_breed.__dict__,'\\n')\n",
    "\n",
    "a = dog_breed.我家的[0]\n",
    "\n",
    "print(a.__dict__,'\\n')\n",
    "\n",
    "print(a.name, f\"type:{type(a.name)}\")\n",
    "\n",
    "name = dog_breed.我家的[0].name\n",
    "\n",
    "print(name, f\"type:{type(a.name)}\")"
   ]
  },
  {
   "cell_type": "code",
   "execution_count": 77,
   "metadata": {},
   "outputs": [],
   "source": [
    "class prop:\n",
    "    def __init__(self, obj_prop):\n",
    "        self.object_property = obj_prop #可以這樣設置變數，目前沒用到\n",
    "        print(obj_prop)\n",
    "        \n",
    "    def add_objectproperty(target, prop, obj): #在target身上加上prop對obj的關係，prop是字串\n",
    "        setattr(target, prop, [obj])\n",
    "    \n",
    "    def add_objectproperty(target, prop, obj): #在target身上加上prop對obj的關係，prop是陣列，會採用第一個\n",
    "        setattr(target, prop[0], [obj])\n",
    "\n",
    "        \n",
    "\n",
    "    def get_objectproperty_WantToBe(target): #取得target 的 want to be 關係的 class (return target want to be XXX)\n",
    "        return target.want_to_be[0].name\n",
    "\n",
    "    def get_objectproperty_feels(target): #取得target 的 feels 關係的 class (return target feels XXX)\n",
    "        return target.feels[0].name\n",
    "    \n",
    "    def get_objectproperty(target, prop): #取得target 的 prop 關係的 class (return target prop XXX)\n",
    "        return target.__dict__[prop][0].name\n",
    "    \n"
   ]
  },
  {
   "cell_type": "code",
   "execution_count": 78,
   "metadata": {
    "scrolled": false
   },
   "outputs": [
    {
     "name": "stdout",
     "output_type": "stream",
     "text": [
      "[onto.hero]\n"
     ]
    }
   ],
   "source": [
    "prop.add_objectproperty(my_dog, 'want_to_be', hero)\n",
    "print(my_dog.want_to_be)"
   ]
  },
  {
   "cell_type": "code",
   "execution_count": 53,
   "metadata": {},
   "outputs": [
    {
     "name": "stdout",
     "output_type": "stream",
     "text": [
      "[onto.cute]\n"
     ]
    }
   ],
   "source": [
    "prop.add_objectproperty(my_dog, feeling_prop, cute)\n",
    "print(my_dog.feels)"
   ]
  },
  {
   "cell_type": "code",
   "execution_count": 57,
   "metadata": {},
   "outputs": [
    {
     "name": "stdout",
     "output_type": "stream",
     "text": [
      "hero\n",
      "cute\n"
     ]
    }
   ],
   "source": [
    "print(prop.get_objectproperty_WantToBe(my_dog))\n",
    "print(prop.get_objectproperty_feels(my_dog))"
   ]
  },
  {
   "cell_type": "code",
   "execution_count": 74,
   "metadata": {},
   "outputs": [
    {
     "name": "stdout",
     "output_type": "stream",
     "text": [
      "hero\n",
      "cute\n"
     ]
    }
   ],
   "source": [
    "print(prop.get_objectproperty(my_dog, 'want_to_be'))\n",
    "print(prop.get_objectproperty(my_dog, 'feels'))"
   ]
  },
  {
   "cell_type": "code",
   "execution_count": null,
   "metadata": {},
   "outputs": [],
   "source": []
  },
  {
   "cell_type": "code",
   "execution_count": 30,
   "metadata": {},
   "outputs": [
    {
     "name": "stdout",
     "output_type": "stream",
     "text": [
      "onto.哈士奇\n"
     ]
    }
   ],
   "source": [
    "for i in dog.instances():\n",
    "    print(i)"
   ]
  },
  {
   "cell_type": "code",
   "execution_count": 38,
   "metadata": {},
   "outputs": [
    {
     "data": {
      "text/plain": [
       "[onto.哈士奇]"
      ]
     },
     "execution_count": 38,
     "metadata": {},
     "output_type": "execute_result"
    }
   ],
   "source": [
    "list(dog.instances())"
   ]
  },
  {
   "cell_type": "code",
   "execution_count": 44,
   "metadata": {},
   "outputs": [
    {
     "name": "stdout",
     "output_type": "stream",
     "text": [
      "onto.Drug\n",
      "onto.animal\n",
      "onto.dog\n",
      "onto.hero\n",
      "onto.feeling\n",
      "onto.cute\n",
      "onto.happy\n"
     ]
    }
   ],
   "source": [
    "for i in onto.classes():\n",
    "    print(i)"
   ]
  },
  {
   "cell_type": "code",
   "execution_count": 86,
   "metadata": {},
   "outputs": [],
   "source": [
    "for i in my_dog.get_properties():\n",
    "    print(i)"
   ]
  },
  {
   "cell_type": "code",
   "execution_count": null,
   "metadata": {},
   "outputs": [],
   "source": []
  },
  {
   "cell_type": "code",
   "execution_count": null,
   "metadata": {},
   "outputs": [],
   "source": []
  },
  {
   "cell_type": "code",
   "execution_count": null,
   "metadata": {},
   "outputs": [],
   "source": [
    " onto.save(file = \"test.owl\", format = \"rdfxml\")"
   ]
  },
  {
   "cell_type": "code",
   "execution_count": null,
   "metadata": {},
   "outputs": [],
   "source": []
  },
  {
   "cell_type": "code",
   "execution_count": null,
   "metadata": {},
   "outputs": [],
   "source": []
  }
 ],
 "metadata": {
  "kernelspec": {
   "display_name": "Python 3",
   "language": "python",
   "name": "python3"
  },
  "language_info": {
   "codemirror_mode": {
    "name": "ipython",
    "version": 3
   },
   "file_extension": ".py",
   "mimetype": "text/x-python",
   "name": "python",
   "nbconvert_exporter": "python",
   "pygments_lexer": "ipython3",
   "version": "3.7.6"
  }
 },
 "nbformat": 4,
 "nbformat_minor": 4
}
