{
 "cells": [
  {
   "cell_type": "markdown",
   "metadata": {},
   "source": [
    "Creating a new class of property"
   ]
  },
  {
   "cell_type": "code",
   "execution_count": 69,
   "metadata": {},
   "outputs": [],
   "source": [
    "def print_detail(object):\n",
    "    try:\n",
    "        print(f'{\"name\":18s}:', object)\n",
    "        print(f'{\"__class__\":18s}:', object.__class__)\n",
    "        print(f'{\"equivalent_to\":18s}:', object.equivalent_to)\n",
    "        print(f'{\"is_a\":18s}:', object.is_a)\n",
    "        print(f'{\"has_for_ingredient\":18s}:', object.has_for_ingredient)\n",
    "        print(f'{\"has_for_synonym\":18s}:', object.has_for_synonym)\n",
    "        print(f'{\"is_ingredient_of\":18s}:', object.is_ingredient_of)\n",
    "        print(\"*\"*15)\n",
    "    except:\n",
    "        pass"
   ]
  },
  {
   "cell_type": "code",
   "execution_count": 1,
   "metadata": {},
   "outputs": [],
   "source": [
    "from owlready2 import *\n",
    "onto = get_ontology(\"http://test.ort/onto.owl\")"
   ]
  },
  {
   "cell_type": "code",
   "execution_count": 179,
   "metadata": {},
   "outputs": [],
   "source": [
    "with onto:\n",
    "    class Drug(Thing):\n",
    "        pass\n",
    "    class Ingredient(Thing):\n",
    "        pass\n",
    "    class has_for_ingredient(ObjectProperty):\n",
    "        domain = [Drug]\n",
    "        range = [Ingredient]     "
   ]
  },
  {
   "cell_type": "code",
   "execution_count": null,
   "metadata": {},
   "outputs": [],
   "source": [
    "\"\"\"\n",
    "these two equals:\n",
    "\n",
    "    class has_for_ingredient(ObjectProperty):\n",
    "        domain = [Drug]\n",
    "        range = [Ingredient]\n",
    "        \n",
    "    class has_for_ingredient(Drug >> Ingredient):\n",
    "        pass\n",
    "\n",
    "both means [Drug] has [Ingredient] for ingredient\n",
    "\"\"\""
   ]
  },
  {
   "cell_type": "code",
   "execution_count": 182,
   "metadata": {},
   "outputs": [
    {
     "name": "stdout",
     "output_type": "stream",
     "text": [
      "[onto.Drug, onto.Drug]\n",
      "[onto.Ingredient, onto.Ingredient]\n"
     ]
    }
   ],
   "source": [
    "print(has_for_ingredient.domain)\n",
    "print(has_for_ingredient.range)"
   ]
  },
  {
   "cell_type": "code",
   "execution_count": 43,
   "metadata": {},
   "outputs": [
    {
     "name": "stdout",
     "output_type": "stream",
     "text": [
      "name              : onto.panadol\n",
      "__class__         : onto.Drug\n",
      "equivalent_to     : []\n",
      "is_a              : [onto.Drug]\n",
      "has_for_ingredient: [onto.acetaminophen]\n"
     ]
    }
   ],
   "source": [
    "my_drug = Drug(\"panadol\")\n",
    "\n",
    "acetaminophen = Ingredient(\"acetaminophen\")\n",
    "\n",
    "my_drug.has_for_ingredient = [acetaminophen]\n",
    "\n",
    "print_detail(my_drug)"
   ]
  },
  {
   "cell_type": "code",
   "execution_count": 44,
   "metadata": {},
   "outputs": [
    {
     "name": "stdout",
     "output_type": "stream",
     "text": [
      "name              : onto.panadol\n",
      "__class__         : onto.Drug\n",
      "equivalent_to     : []\n",
      "is_a              : [onto.Drug]\n",
      "has_for_ingredient: [onto.acetaminophen, onto.codeine]\n"
     ]
    }
   ],
   "source": [
    "codeine = Ingredient(\"codeine\")\n",
    "\n",
    "my_drug.has_for_ingredient.append(codeine)\n",
    "\n",
    "print_detail(my_drug)"
   ]
  },
  {
   "cell_type": "code",
   "execution_count": 49,
   "metadata": {},
   "outputs": [
    {
     "name": "stdout",
     "output_type": "stream",
     "text": [
      "name              : onto.acetaminophen\n",
      "__class__         : onto.Ingredient\n",
      "equivalent_to     : []\n",
      "is_a              : [onto.Ingredient]\n",
      "has_for_ingredient: []\n",
      "has_for_synonym   : ['acetaminophen', 'paracétamol']\n"
     ]
    }
   ],
   "source": [
    "with onto:\n",
    "    class has_for_synonym(DataProperty):\n",
    "        range = [str]\n",
    "        \n",
    "acetaminophen.has_for_synonym = [\"acetaminophen\", \"paracétamol\"]\n",
    "\n",
    "print_detail(acetaminophen)"
   ]
  },
  {
   "cell_type": "code",
   "execution_count": null,
   "metadata": {},
   "outputs": [],
   "source": [
    "\"\"\"\n",
    "these two are equivalent:\n",
    "\n",
    "    class has_for_synonym(DataProperty):\n",
    "        range = [str]\n",
    "        \n",
    "    class has_for_synonym(Thing >> str):\n",
    "        pass\n",
    "\"\"\""
   ]
  },
  {
   "cell_type": "code",
   "execution_count": 68,
   "metadata": {},
   "outputs": [],
   "source": [
    "with onto:\n",
    "    class is_ingredient_of(ObjectProperty):\n",
    "        domain = [Ingredient]\n",
    "        range = [Drug]\n",
    "        inverse_property = has_for_ingredient"
   ]
  },
  {
   "cell_type": "code",
   "execution_count": 75,
   "metadata": {},
   "outputs": [
    {
     "name": "stdout",
     "output_type": "stream",
     "text": [
      "name              : onto.panadol\n",
      "__class__         : onto.Drug\n",
      "equivalent_to     : []\n",
      "is_a              : [onto.Drug]\n",
      "has_for_ingredient: [onto.acetaminophen, onto.codeine]\n",
      "has_for_synonym   : []\n",
      "is_ingredient_of  : []\n",
      "***************\n",
      "name              : onto.smart pill\n",
      "__class__         : onto.Drug\n",
      "equivalent_to     : []\n",
      "is_a              : [onto.Drug]\n",
      "has_for_ingredient: [onto.retalin, onto.retalin, onto.retalin, onto.retalin, onto.retalin]\n",
      "has_for_synonym   : []\n",
      "is_ingredient_of  : []\n",
      "***************\n",
      "name              : onto.retalin\n",
      "__class__         : onto.Ingredient\n",
      "equivalent_to     : []\n",
      "is_a              : [onto.Ingredient]\n",
      "has_for_ingredient: []\n",
      "has_for_synonym   : []\n",
      "is_ingredient_of  : [onto.smart pill]\n",
      "***************\n",
      "name              : onto.codeine\n",
      "__class__         : onto.Ingredient\n",
      "equivalent_to     : []\n",
      "is_a              : [onto.Ingredient]\n",
      "has_for_ingredient: []\n",
      "has_for_synonym   : []\n",
      "is_ingredient_of  : [onto.panadol]\n",
      "***************\n",
      "name              : onto.acetaminophen\n",
      "__class__         : onto.Ingredient\n",
      "equivalent_to     : []\n",
      "is_a              : [onto.Ingredient]\n",
      "has_for_ingredient: []\n",
      "has_for_synonym   : ['acetaminophen', 'paracétamol']\n",
      "is_ingredient_of  : [onto.panadol]\n",
      "***************\n"
     ]
    }
   ],
   "source": [
    "my_drug2 = Drug(\"smart pill\")\n",
    "\n",
    "retalin = Ingredient(\"retalin\")\n",
    "\n",
    "my_drug2.has_for_ingredient.append(retalin)\n",
    "\n",
    "print_detail(my_drug)\n",
    "print_detail(my_drug2)\n",
    "print_detail(retalin)\n",
    "print_detail(codeine)\n",
    "print_detail(acetaminophen)"
   ]
  },
  {
   "cell_type": "markdown",
   "metadata": {},
   "source": [
    "FunctionalProperty"
   ]
  },
  {
   "cell_type": "code",
   "execution_count": 77,
   "metadata": {},
   "outputs": [
    {
     "name": "stdout",
     "output_type": "stream",
     "text": [
      "4.2\n",
      "None\n"
     ]
    }
   ],
   "source": [
    "# https://pythonhosted.org/Owlready2/properties.html#functional-and-inverse-functional-properties\n",
    "with onto:\n",
    "    class has_for_cost(DataProperty, FunctionalProperty):\n",
    "        domain = [Drug]\n",
    "        range = [float]\n",
    "        \n",
    "my_drug.has_for_cost = 4.2\n",
    "\n",
    "print(my_drug.has_for_cost)\n",
    "print(my_drug2.has_for_cost)"
   ]
  },
  {
   "cell_type": "code",
   "execution_count": 98,
   "metadata": {},
   "outputs": [
    {
     "name": "stdout",
     "output_type": "stream",
     "text": [
      "name              : onto.腎上腺素\n",
      "__class__         : onto.Drug\n",
      "equivalent_to     : []\n",
      "is_a              : [onto.Drug]\n",
      "has_for_ingredient: []\n",
      "has_for_synonym   : []\n",
      "is_ingredient_of  : []\n",
      "***************\n",
      "{'namespace': get_ontology(\"http://test.ort/onto.owl#\"), '_name': '腎上腺素', '_equivalent_to': [], 'storid': 317, 'is_a': [onto.Drug], 'has_for_ingredient': [], 'has_for_synonym': [], 'is_ingredient_of': []}\n",
      "腎上腺素\n",
      "腎上腺素\n",
      "get_ontology(\"http://test.ort/onto.owl#\")\n",
      "http://test.ort/onto.owl#腎上腺素\n",
      "onto.腎上腺素\n",
      "[]\n"
     ]
    }
   ],
   "source": [
    "e = Drug(\"腎上腺素\")\n",
    "print_detail(e)\n",
    "\n",
    "print(e.__dict__)\n",
    "\n",
    "print(e._name)\n",
    "print(e.name)\n",
    "print(e.namespace)\n",
    "print(e.iri)\n",
    "print(e)\n",
    "print(e.label)"
   ]
  },
  {
   "cell_type": "code",
   "execution_count": 151,
   "metadata": {},
   "outputs": [],
   "source": [
    "import types\n",
    "expected_ns = {}\n",
    "class A(type):\n",
    "    def __new__(*args, **kwargs):\n",
    "        return type.__new__(*args, **kwargs)\n",
    "\n",
    "    def __prepare__(*args):\n",
    "        return expected_ns\n",
    "with onto:\n",
    "    NewClass = types.new_class(\"Drug2\", (Thing,),)"
   ]
  },
  {
   "cell_type": "code",
   "execution_count": 152,
   "metadata": {},
   "outputs": [
    {
     "name": "stdout",
     "output_type": "stream",
     "text": [
      "{'__module__': '__main__', '_name': 'Drug', 'namespace': get_ontology(\"http://test.ort/onto.owl#\"), 'storid': 302, 'is_a': [owl.Thing, onto.Drug], '_equivalent_to': [], '__doc__': None}\n",
      "{'_name': 'Drug2', 'namespace': get_ontology(\"http://test.ort/onto.owl#\"), 'storid': 319, 'is_a': [owl.Thing], '_equivalent_to': None, '__module__': 'owlready2.entity', '__doc__': None}\n",
      "\n",
      "********************\n",
      "\n",
      "{'namespace': get_ontology(\"http://test.ort/onto.owl#\"), '_name': 'panadol', '_equivalent_to': [], 'storid': 306, 'is_a': [onto.Drug], 'has_for_ingredient': [onto.acetaminophen, onto.codeine], 'has_for_synonym': [], 'is_ingredient_of': [], 'has_for_cost': 4.2}\n",
      "{'namespace': get_ontology(\"http://test.ort/onto.owl#\"), '_name': 'bobo', '_equivalent_to': [], 'storid': 311, 'is_a': [onto.Drug], 'has_for_ingredient': [], 'has_for_synonym': [], 'test': [onto.happy]}\n",
      "{'namespace': get_ontology(\"http://test.ort/onto.owl#\"), '_name': 'smart pill', '_equivalent_to': [], 'storid': 314, 'is_a': [onto.Drug], 'has_for_ingredient': [onto.retalin, onto.retalin, onto.retalin, onto.retalin, onto.retalin], 'has_for_synonym': [], 'is_ingredient_of': [], 'has_for_cost': None}\n",
      "{'namespace': get_ontology(\"http://test.ort/onto.owl#\"), '_name': '腎上腺素', '_equivalent_to': [], 'storid': 317, 'is_a': [onto.Drug], 'has_for_ingredient': [], 'has_for_synonym': [], 'is_ingredient_of': [], 'label': []}\n",
      "{'namespace': get_ontology(\"http://test.ort/onto.owl#\"), '_name': 'acetaminophen', '_equivalent_to': [], 'storid': 307, 'is_a': [onto.Ingredient], 'has_for_synonym': ['acetaminophen', 'paracétamol'], 'has_for_ingredient': [], 'is_ingredient_of': [onto.panadol]}\n",
      "{'namespace': get_ontology(\"http://test.ort/onto.owl#\"), '_name': 'codeine', '_equivalent_to': [], 'storid': 308, 'is_a': [onto.Ingredient], 'has_for_ingredient': [], 'has_for_synonym': [], 'is_ingredient_of': [onto.panadol]}\n",
      "{'namespace': get_ontology(\"http://test.ort/onto.owl#\"), '_name': 'happy', '_equivalent_to': [], 'storid': 312, 'is_a': [onto.Ingredient], 'has_for_ingredient': [], 'has_for_synonym': []}\n",
      "{'namespace': get_ontology(\"http://test.ort/onto.owl#\"), '_name': 'retalin', '_equivalent_to': [], 'storid': 315, 'is_a': [onto.Ingredient], 'has_for_ingredient': [], 'has_for_synonym': [], 'is_ingredient_of': [onto.smart pill]}\n"
     ]
    }
   ],
   "source": [
    "print(Drug.__dict__)\n",
    "print(NewClass.__dict__)\n",
    "print(f'\\n{\"*\"*20}\\n')\n",
    "for i in Thing.instances():\n",
    "    print(i.__dict__)"
   ]
  },
  {
   "cell_type": "code",
   "execution_count": 50,
   "metadata": {},
   "outputs": [],
   "source": [
    "### testing block\n",
    "with onto:\n",
    "    class test(ObjectProperty):\n",
    "        a = [Ingredient]\n",
    "        b = [Drug]\n",
    "        c = [has_for_ingredient]"
   ]
  },
  {
   "cell_type": "code",
   "execution_count": 66,
   "metadata": {},
   "outputs": [
    {
     "name": "stdout",
     "output_type": "stream",
     "text": [
      "name              : onto.bobo\n",
      "__class__         : onto.Drug\n",
      "equivalent_to     : []\n",
      "is_a              : [onto.Drug]\n",
      "has_for_ingredient: []\n",
      "has_for_synonym   : []\n",
      "***************\n",
      "name              : onto.happy\n",
      "__class__         : onto.Ingredient\n",
      "equivalent_to     : []\n",
      "is_a              : [onto.Ingredient]\n",
      "has_for_ingredient: []\n",
      "has_for_synonym   : []\n",
      "***************\n",
      "test              : [onto.happy]\n"
     ]
    }
   ],
   "source": [
    "### testing block result\n",
    "d = Drug(\"bobo\")\n",
    "print_detail(d)\n",
    "\n",
    "i = Ingredient(\"happy\")\n",
    "print_detail(i)\n",
    "\n",
    "d.test = [i]\n",
    "\n",
    "print(f'{\"test\":18s}:', d.test)"
   ]
  },
  {
   "cell_type": "markdown",
   "metadata": {},
   "source": [
    "get_properties()"
   ]
  },
  {
   "cell_type": "code",
   "execution_count": 173,
   "metadata": {},
   "outputs": [
    {
     "name": "stdout",
     "output_type": "stream",
     "text": [
      "instance:onto.panadol     , get_properties: {onto.has_for_cost, onto.has_for_ingredient}\n",
      "instance:onto.bobo        , get_properties: {onto.test}                   \n",
      "instance:onto.smart pill  , get_properties: {onto.has_for_ingredient}     \n",
      "instance:onto.腎上腺素        , get_properties: set()                         \n"
     ]
    }
   ],
   "source": [
    "for i in onto.Drug.instances():\n",
    "    print(f'instance:{str(i):17s}, get_properties: {str(i.get_properties()):30s}')"
   ]
  },
  {
   "cell_type": "code",
   "execution_count": 176,
   "metadata": {},
   "outputs": [
    {
     "name": "stdout",
     "output_type": "stream",
     "text": [
      "{onto.has_for_cost, onto.has_for_ingredient} \n",
      "\n",
      ".has_for_cost == 4.2 \n",
      ".has_for_ingredient == onto.acetaminophen \n",
      ".has_for_ingredient == onto.codeine \n"
     ]
    }
   ],
   "source": [
    "#panadol \n",
    "print(onto.panadol.get_properties(), '\\n')\n",
    "\n",
    "for prop in onto.panadol.get_properties():\n",
    "    for value in prop[onto.panadol]:\n",
    "        print(\".%s == %s \" % (prop.python_name, value))"
   ]
  },
  {
   "cell_type": "code",
   "execution_count": 177,
   "metadata": {},
   "outputs": [
    {
     "name": "stdout",
     "output_type": "stream",
     "text": [
      "{onto.is_ingredient_of, onto.has_for_synonym} \n",
      "\n",
      ".is_ingredient_of == onto.panadol \n",
      ".has_for_synonym == acetaminophen \n",
      ".has_for_synonym == paracétamol \n"
     ]
    }
   ],
   "source": [
    "#acetaminophen\n",
    "print(onto.acetaminophen.get_properties(), '\\n')\n",
    "\n",
    "for prop in onto.acetaminophen.get_properties():\n",
    "    for value in prop[onto.acetaminophen]:\n",
    "        print(\".%s == %s \" % (prop.python_name, value))"
   ]
  },
  {
   "cell_type": "markdown",
   "metadata": {},
   "source": [
    "Inverse functional property (still not work yet)"
   ]
  },
  {
   "cell_type": "code",
   "execution_count": 187,
   "metadata": {},
   "outputs": [],
   "source": [
    "with onto:\n",
    "    class prop(ObjectProperty): pass\n",
    "    class p_A(Thing): pass\n",
    "    class p_B(Thing): \n",
    "        is_a = [prop.max(1)]"
   ]
  },
  {
   "cell_type": "code",
   "execution_count": 190,
   "metadata": {},
   "outputs": [
    {
     "name": "stdout",
     "output_type": "stream",
     "text": [
      "[]\n",
      "[]\n"
     ]
    }
   ],
   "source": [
    "print(p_A().prop)\n",
    "print(p_B().prop)"
   ]
  },
  {
   "cell_type": "code",
   "execution_count": 199,
   "metadata": {},
   "outputs": [],
   "source": [
    "with onto:\n",
    "    class p_C(DataProperty, FunctionalProperty):\n",
    "        domain = [p_A]\n",
    "        range = [str]\n",
    "    class p_C_inverse(DataProperty, InverseFunctionalProperty):\n",
    "        domain = [p_A]\n",
    "        range = [str]"
   ]
  },
  {
   "cell_type": "code",
   "execution_count": 215,
   "metadata": {},
   "outputs": [],
   "source": [
    "instance_A = p_A()\n",
    "instance_A.p_C = \"bobo\""
   ]
  },
  {
   "cell_type": "code",
   "execution_count": 216,
   "metadata": {},
   "outputs": [
    {
     "name": "stdout",
     "output_type": "stream",
     "text": [
      "bobo\n",
      "\n"
     ]
    }
   ],
   "source": [
    "print(instance_A.p_C)\n",
    "print()"
   ]
  },
  {
   "cell_type": "markdown",
   "metadata": {},
   "source": [
    "Creating a subproperty"
   ]
  },
  {
   "cell_type": "code",
   "execution_count": 218,
   "metadata": {},
   "outputs": [],
   "source": [
    "with onto:\n",
    "    class ActivePrinciple(Ingredient):\n",
    "        pass\n",
    "    class has_for_active_principle(has_for_ingredient):\n",
    "        domain = [Drug]\n",
    "        range = [ActivePrinciple]"
   ]
  },
  {
   "cell_type": "code",
   "execution_count": 220,
   "metadata": {},
   "outputs": [],
   "source": [
    "with onto:\n",
    "    class BodyPart(Thing):pass\n",
    "    class part_of(BodyPart >> BodyPart, TransitiveProperty): pass"
   ]
  },
  {
   "cell_type": "code",
   "execution_count": null,
   "metadata": {},
   "outputs": [],
   "source": [
    "abdomen = BodyPart(\"abdomen\")\n",
    "heart = BodyPart(\"heart\", part_of = [abdomen])\n",
    "left_ventricular = BodyPart(\"left_ventricular\", part_of = [heart])\n",
    "kidney = BodyPart(\"kidney\", part_of = [abdomen])"
   ]
  },
  {
   "cell_type": "code",
   "execution_count": 223,
   "metadata": {},
   "outputs": [
    {
     "name": "stdout",
     "output_type": "stream",
     "text": [
      "onto.left_ventricular\n",
      "[onto.heart]\n",
      "[onto.heart, onto.abdomen]\n"
     ]
    }
   ],
   "source": [
    "print(left_ventricular)\n",
    "print(left_ventricular.part_of)\n",
    "print(left_ventricular.INDIRECT_part_of)"
   ]
  },
  {
   "cell_type": "code",
   "execution_count": 237,
   "metadata": {},
   "outputs": [
    {
     "name": "stdout",
     "output_type": "stream",
     "text": [
      "onto.has_for_active_principle\n",
      "<generator object Property.get_relations at 0x7fbed542b050>\n"
     ]
    }
   ],
   "source": [
    "print(onto.has_for_active_principle)\n",
    "print(onto.has_for_active_principle.get_relations())\n",
    "\n",
    "for i in onto.is_ingredient_of.get_relations():\n",
    "    print(i)"
   ]
  },
  {
   "cell_type": "code",
   "execution_count": 243,
   "metadata": {},
   "outputs": [
    {
     "name": "stdout",
     "output_type": "stream",
     "text": [
      "(onto.panadol, onto.acetaminophen)\n",
      "(onto.panadol, onto.codeine)\n",
      "(onto.smart pill, onto.retalin)\n",
      "\n",
      " ******************** \n",
      "\n",
      "(onto.bobo, onto.happy)\n"
     ]
    }
   ],
   "source": [
    "for i in onto.has_for_ingredient.get_relations():\n",
    "    print(i)\n",
    "\n",
    "print('\\n','*'*20,'\\n')\n",
    "for i in onto.test.get_relations():\n",
    "    print(i)"
   ]
  },
  {
   "cell_type": "code",
   "execution_count": null,
   "metadata": {},
   "outputs": [],
   "source": []
  },
  {
   "cell_type": "code",
   "execution_count": null,
   "metadata": {},
   "outputs": [],
   "source": []
  },
  {
   "cell_type": "code",
   "execution_count": 224,
   "metadata": {},
   "outputs": [],
   "source": [
    "onto.save(file = \"test.owl\", format = \"rdfxml\")"
   ]
  },
  {
   "cell_type": "code",
   "execution_count": null,
   "metadata": {},
   "outputs": [],
   "source": []
  }
 ],
 "metadata": {
  "kernelspec": {
   "display_name": "Python 3",
   "language": "python",
   "name": "python3"
  },
  "language_info": {
   "codemirror_mode": {
    "name": "ipython",
    "version": 3
   },
   "file_extension": ".py",
   "mimetype": "text/x-python",
   "name": "python",
   "nbconvert_exporter": "python",
   "pygments_lexer": "ipython3",
   "version": "3.7.6"
  }
 },
 "nbformat": 4,
 "nbformat_minor": 4
}
