{
 "cells": [
  {
   "cell_type": "code",
   "execution_count": 10,
   "metadata": {},
   "outputs": [],
   "source": [
    "import types\n",
    "from owlready2 import *\n",
    "onto = get_ontology(\"http://test.ort/onto.owl\")"
   ]
  },
  {
   "cell_type": "code",
   "execution_count": 2,
   "metadata": {},
   "outputs": [],
   "source": [
    "with onto:\n",
    "    class animal(Thing):\n",
    "        pass\n",
    "    class food(Thing):\n",
    "        pass\n",
    "    class living(Thing):\n",
    "        pass\n",
    "    class location(Thing):\n",
    "        pass\n",
    "    class time(Thing):\n",
    "        pass"
   ]
  },
  {
   "cell_type": "code",
   "execution_count": 97,
   "metadata": {},
   "outputs": [],
   "source": [
    "class class_object:\n",
    "    def __init__(self):\n",
    "        pass\n",
    "    \n",
    "    def add(self):\n",
    "        pass\n",
    "    \n",
    "    def print_dict(self, target):\n",
    "        print(target.__dict__)\n",
    "        \n",
    "    def remove(self, target):\n",
    "        destroy_entity(target)"
   ]
  },
  {
   "cell_type": "code",
   "execution_count": 98,
   "metadata": {},
   "outputs": [],
   "source": [
    "class class_operation(class_object):\n",
    "    def __init__(self):\n",
    "        pass\n",
    "    \n",
    "    def add(self, class_name, inherit_class):\n",
    "        newclass = types.new_class(class_name, (inherit_class,),) #\n",
    "        super().print_dict(newclass)\n",
    "        return newclass\n",
    "    \n",
    "class subclass_operation(class_object):\n",
    "    def __init__():\n",
    "        pass\n",
    "    \n",
    "    def add():\n",
    "        pass"
   ]
  },
  {
   "cell_type": "code",
   "execution_count": 117,
   "metadata": {},
   "outputs": [
    {
     "name": "stdout",
     "output_type": "stream",
     "text": [
      "{'_name': 'dog', 'namespace': get_ontology(\"http://test.ort/onto.owl#\"), 'storid': 311, 'is_a': [onto.animal], '_equivalent_to': None, '__module__': 'owlready2.entity', '__doc__': None}\n"
     ]
    }
   ],
   "source": [
    "c = class_operation()\n",
    "newclass = c.add('dog', animal)"
   ]
  },
  {
   "cell_type": "code",
   "execution_count": 118,
   "metadata": {},
   "outputs": [
    {
     "name": "stdout",
     "output_type": "stream",
     "text": [
      "onto.animal\n",
      "onto.food\n",
      "onto.living\n",
      "onto.location\n",
      "onto.time\n",
      "onto.dog\n"
     ]
    }
   ],
   "source": [
    "for i in onto.classes():\n",
    "    print(i)"
   ]
  },
  {
   "cell_type": "code",
   "execution_count": 119,
   "metadata": {},
   "outputs": [
    {
     "name": "stdout",
     "output_type": "stream",
     "text": [
      "onto.animal onto.time\n",
      "onto.dog\n"
     ]
    }
   ],
   "source": [
    "print(onto.animal, onto.time)\n",
    "for i in animal.subclasses():\n",
    "    print(i)"
   ]
  },
  {
   "cell_type": "code",
   "execution_count": 121,
   "metadata": {},
   "outputs": [
    {
     "name": "stdout",
     "output_type": "stream",
     "text": [
      "{'_name': 'Shiba', 'namespace': get_ontology(\"http://test.ort/onto.owl#\"), 'storid': 312, 'is_a': [onto.dog], '_equivalent_to': None, '__module__': 'owlready2.entity', '__doc__': None}\n"
     ]
    }
   ],
   "source": [
    "newclass = c.add('Shiba', onto.dog)"
   ]
  },
  {
   "cell_type": "code",
   "execution_count": 124,
   "metadata": {},
   "outputs": [
    {
     "name": "stdout",
     "output_type": "stream",
     "text": [
      "onto.animal\n",
      "onto.food\n",
      "onto.living\n",
      "onto.location\n",
      "onto.time\n",
      "onto.dog\n",
      "onto.Shiba\n",
      "************************************************** \n",
      "\n",
      "onto.dog\n"
     ]
    }
   ],
   "source": [
    "for i in onto.classes():\n",
    "    print(i)\n",
    "    \n",
    "print('\\n','*'*50,'\\n')\n",
    "for i in animal.subclasses():\n",
    "    print(i)"
   ]
  },
  {
   "cell_type": "code",
   "execution_count": 101,
   "metadata": {},
   "outputs": [],
   "source": [
    "result = c.remove(onto.dog)"
   ]
  },
  {
   "cell_type": "code",
   "execution_count": 102,
   "metadata": {},
   "outputs": [
    {
     "name": "stdout",
     "output_type": "stream",
     "text": [
      "onto.animal\n",
      "onto.food\n",
      "onto.living\n",
      "onto.location\n",
      "onto.time\n"
     ]
    }
   ],
   "source": [
    "for i in onto.classes():\n",
    "    print(i)"
   ]
  },
  {
   "cell_type": "code",
   "execution_count": null,
   "metadata": {},
   "outputs": [],
   "source": []
  }
 ],
 "metadata": {
  "kernelspec": {
   "display_name": "Python 3",
   "language": "python",
   "name": "python3"
  },
  "language_info": {
   "codemirror_mode": {
    "name": "ipython",
    "version": 3
   },
   "file_extension": ".py",
   "mimetype": "text/x-python",
   "name": "python",
   "nbconvert_exporter": "python",
   "pygments_lexer": "ipython3",
   "version": "3.7.6"
  }
 },
 "nbformat": 4,
 "nbformat_minor": 4
}
