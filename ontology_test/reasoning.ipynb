{
 "cells": [
  {
   "cell_type": "code",
   "execution_count": 1,
   "metadata": {},
   "outputs": [
    {
     "name": "stderr",
     "output_type": "stream",
     "text": [
      "* Owlready2 * Warning: optimized Cython parser module 'owlready2_optimized' is not available, defaulting to slower Python implementation\n"
     ]
    }
   ],
   "source": [
    "from owlready2 import *\n",
    "\n",
    "onto = get_ontology(\"http://test.org/onto.owl\")\n",
    "\n",
    "with onto:\n",
    "    class Drug(Thing):\n",
    "        def take(self): print(\"I took a drug\")\n",
    "\n",
    "    class ActivePrinciple(Thing):\n",
    "        pass\n",
    "\n",
    "    class has_for_active_principle(Drug >> ActivePrinciple):\n",
    "        python_name = \"active_principles\"\n",
    "\n",
    "    class Placebo(Drug):\n",
    "        equivalent_to = [Drug & Not(has_for_active_principle.some(ActivePrinciple))]\n",
    "        def take(self): print(\"I took a placebo\")\n",
    "\n",
    "    class SingleActivePrincipleDrug(Drug):\n",
    "        equivalent_to = [Drug & has_for_active_principle.exactly(1, ActivePrinciple)]\n",
    "        def take(self): print(\"I took a drug with a single active principle\")\n",
    "\n",
    "    class DrugAssociation(Drug):\n",
    "        equivalent_to = [Drug & has_for_active_principle.min(2, ActivePrinciple)]\n",
    "        def take(self): print(\"I took a drug with %s active principles\" % len(self.active_principles))"
   ]
  },
  {
   "cell_type": "code",
   "execution_count": 2,
   "metadata": {},
   "outputs": [],
   "source": [
    "acetaminophen   = ActivePrinciple(\"acetaminophen\")\n",
    "amoxicillin     = ActivePrinciple(\"amoxicillin\")\n",
    "clavulanic_acid = ActivePrinciple(\"clavulanic_acid\")\n",
    "abc = ActivePrinciple(\"abc\")\n",
    "\n",
    "AllDifferent([acetaminophen, amoxicillin, clavulanic_acid, abc])\n",
    "\n",
    "drug1 = Drug(active_principles = [acetaminophen])\n",
    "drug2 = Drug(active_principles = [amoxicillin, clavulanic_acid])\n",
    "drug3 = Drug(active_principles = [])\n",
    "drug4 = Drug(active_principles = [acetaminophen, amoxicillin, clavulanic_acid, abc])\n",
    "\n",
    "close_world(Drug)"
   ]
  },
  {
   "cell_type": "code",
   "execution_count": 3,
   "metadata": {},
   "outputs": [
    {
     "name": "stdout",
     "output_type": "stream",
     "text": [
      "I took a drug\n",
      "I took a drug\n",
      "I took a drug\n",
      "I took a drug\n"
     ]
    }
   ],
   "source": [
    "drug1.take()\n",
    "drug2.take()\n",
    "drug3.take()\n",
    "drug4.take()"
   ]
  },
  {
   "cell_type": "code",
   "execution_count": 4,
   "metadata": {},
   "outputs": [
    {
     "name": "stderr",
     "output_type": "stream",
     "text": [
      "* Owlready2 * Running HermiT...\n",
      "    java -Xmx2000M -cp C:\\Users\\USER\\Anaconda3\\lib\\site-packages\\owlready2\\hermit;C:\\Users\\USER\\Anaconda3\\lib\\site-packages\\owlready2\\hermit\\HermiT.jar org.semanticweb.HermiT.cli.CommandLine -c -O -D -I file:///C:/Users/USER/AppData/Local/Temp/tmp4st8gnjg -Y\n",
      "* Owlready2 * HermiT took 0.9813737869262695 seconds\n",
      "* Owlready * Reparenting onto.drug2: {onto.Drug} => {onto.DrugAssociation}\n",
      "* Owlready * Reparenting onto.drug1: {onto.Drug} => {onto.SingleActivePrincipleDrug}\n",
      "* Owlready * Reparenting onto.drug4: {onto.Drug} => {onto.DrugAssociation}\n",
      "* Owlready * Reparenting onto.drug3: {onto.Drug} => {onto.Placebo}\n",
      "* Owlready * (NB: only changes on entities loaded in Python are shown, other changes are done but not listed)\n"
     ]
    }
   ],
   "source": [
    "sync_reasoner(infer_property_values = True)"
   ]
  },
  {
   "cell_type": "code",
   "execution_count": 5,
   "metadata": {},
   "outputs": [
    {
     "name": "stdout",
     "output_type": "stream",
     "text": [
      "drug2 new Classes: onto.DrugAssociation\n"
     ]
    }
   ],
   "source": [
    "print(\"drug2 new Classes:\", drug2.__class__)"
   ]
  },
  {
   "cell_type": "code",
   "execution_count": 5,
   "metadata": {},
   "outputs": [
    {
     "name": "stdout",
     "output_type": "stream",
     "text": [
      "I took a drug with a single active principle\n"
     ]
    }
   ],
   "source": [
    "drug1.take()"
   ]
  },
  {
   "cell_type": "code",
   "execution_count": 6,
   "metadata": {},
   "outputs": [
    {
     "name": "stdout",
     "output_type": "stream",
     "text": [
      "I took a drug with 2 active principles\n"
     ]
    }
   ],
   "source": [
    "drug2.take()"
   ]
  },
  {
   "cell_type": "code",
   "execution_count": 7,
   "metadata": {},
   "outputs": [
    {
     "name": "stdout",
     "output_type": "stream",
     "text": [
      "I took a placebo\n"
     ]
    }
   ],
   "source": [
    "drug3.take()"
   ]
  },
  {
   "cell_type": "code",
   "execution_count": 5,
   "metadata": {},
   "outputs": [
    {
     "name": "stdout",
     "output_type": "stream",
     "text": [
      "I took a drug with 4 active principles\n"
     ]
    }
   ],
   "source": [
    "drug4.take()"
   ]
  },
  {
   "cell_type": "code",
   "execution_count": 1,
   "metadata": {},
   "outputs": [
    {
     "name": "stderr",
     "output_type": "stream",
     "text": [
      "* Owlready2 * Warning: optimized Cython parser module 'owlready2_optimized' is not available, defaulting to slower Python implementation\n"
     ]
    }
   ],
   "source": [
    "import owlready2\n",
    "owlready2.JAVA_EXE = \"C:\\\\Program Files\\\\Java\\\\jdk-11\\\\bin\\\\java.exe\""
   ]
  },
  {
   "cell_type": "code",
   "execution_count": 2,
   "metadata": {},
   "outputs": [],
   "source": [
    "from owlready2 import *\n",
    "\n",
    "onto = get_ontology(\"http://test.org/onto.owl\")\n",
    "\n",
    "with onto:\n",
    "    class Dog(Thing):\n",
    "        def take(self): print(\"I am a dog\")\n",
    "\n",
    "    class Breed(Thing):\n",
    "        pass\n",
    "\n",
    "    class CustomTag(Thing):\n",
    "        pass\n",
    "    \n",
    "    class is__kind_of(Dog >> Breed):\n",
    "        python_name = \"dog_breed\"\n",
    "    \n",
    "    class has_user_tag(Dog >> CustomTag):\n",
    "        python_name = \"user_tag\"\n",
    "        \n",
    "    class Purebred(Dog):\n",
    "        equivalent_to = [Dog & is__kind_of.exactly(1, Breed)]\n",
    "        def take(self): print(\"I am Purebred\")\n",
    "            \n",
    "    class Mix(Dog):\n",
    "        equivalent_to = [Dog & is__kind_of.min(2, Breed)]\n",
    "        def take(self): print(\"I am a Mix\")   \n",
    "      \n",
    "    class Bobo(Dog):\n",
    "        equivalent_to = [Dog & has_user_tag.exactly(1, CustomTag)]\n",
    "        def take(self): print(\"I am a dog, my name is bobo\")"
   ]
  },
  {
   "cell_type": "code",
   "execution_count": 33,
   "metadata": {},
   "outputs": [],
   "source": [
    "husky = Breed('husky')\n",
    "shiba = Breed('shiba')\n",
    "kiwawa = Breed('kiwawa')\n",
    "tag = CustomTag('bobo')\n",
    "\n",
    "AllDifferent([husky, shiba, kiwawa])\n",
    "AllDifferent([tag])\n",
    "\n",
    "photo1 = Dog(dog_breed = [husky])\n",
    "photo2 = Dog(dog_breed = [kiwawa, shiba])\n",
    "photo3 = Dog(dog_breed = [husky], user_tag = [tag])\n",
    "\n",
    "close_world(photo1)\n",
    "close_world(photo2)\n",
    "close_world(photo3)\n",
    "\n",
    "def add_tag(tag, breed):\n",
    "     \n",
    "    photo4 = Dog(dog_breed = [breed], user_tag = [tag1])\n",
    "    close_world(photo4)"
   ]
  },
  {
   "cell_type": "code",
   "execution_count": null,
   "metadata": {},
   "outputs": [],
   "source": [
    "add_tag('cute_dog')"
   ]
  },
  {
   "cell_type": "code",
   "execution_count": 30,
   "metadata": {},
   "outputs": [
    {
     "name": "stdout",
     "output_type": "stream",
     "text": [
      "I am a dog\n",
      "I am a dog\n",
      "I am a dog\n"
     ]
    }
   ],
   "source": [
    "photo1.take()\n",
    "photo2.take()\n",
    "photo3.take()\n",
    "photo4.take()"
   ]
  },
  {
   "cell_type": "code",
   "execution_count": 31,
   "metadata": {},
   "outputs": [
    {
     "name": "stderr",
     "output_type": "stream",
     "text": [
      "* Owlready2 * Running HermiT...\n",
      "    C:\\Program Files\\Java\\jdk-11\\bin\\java.exe -Xmx2000M -cp C:\\Users\\USER\\Anaconda3\\lib\\site-packages\\owlready2\\hermit;C:\\Users\\USER\\Anaconda3\\lib\\site-packages\\owlready2\\hermit\\HermiT.jar org.semanticweb.HermiT.cli.CommandLine -c -O -D -I file:///C:/Users/USER/AppData/Local/Temp/tmplez9lo7z -Y\n",
      "* Owlready2 * HermiT took 1.0462210178375244 seconds\n",
      "* Owlready * Reparenting onto.dog20: {onto.Dog} => {onto.Mix}\n",
      "* Owlready * Reparenting onto.dog21: {onto.Dog} => {onto.Bobo, onto.Purebred}\n",
      "* Owlready * Reparenting onto.dog19: {onto.Dog} => {onto.Purebred}\n",
      "* Owlready * (NB: only changes on entities loaded in Python are shown, other changes are done but not listed)\n"
     ]
    }
   ],
   "source": [
    "sync_reasoner(infer_property_values = True)"
   ]
  },
  {
   "cell_type": "code",
   "execution_count": 32,
   "metadata": {},
   "outputs": [
    {
     "name": "stdout",
     "output_type": "stream",
     "text": [
      "I am Purebred\n",
      "I am a Mix\n",
      "I am a dog, my name is bobo\n"
     ]
    }
   ],
   "source": [
    "photo1.take()\n",
    "photo2.take()\n",
    "photo3.take()"
   ]
  },
  {
   "cell_type": "code",
   "execution_count": null,
   "metadata": {},
   "outputs": [],
   "source": []
  }
 ],
 "metadata": {
  "kernelspec": {
   "display_name": "Python 3",
   "language": "python",
   "name": "python3"
  },
  "language_info": {
   "codemirror_mode": {
    "name": "ipython",
    "version": 3
   },
   "file_extension": ".py",
   "mimetype": "text/x-python",
   "name": "python",
   "nbconvert_exporter": "python",
   "pygments_lexer": "ipython3",
   "version": "3.7.1"
  }
 },
 "nbformat": 4,
 "nbformat_minor": 4
}
