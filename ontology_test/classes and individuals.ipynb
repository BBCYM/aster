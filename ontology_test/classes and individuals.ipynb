{
 "cells": [
  {
   "cell_type": "code",
   "execution_count": 1,
   "metadata": {},
   "outputs": [],
   "source": [
    "from owlready2 import *"
   ]
  },
  {
   "cell_type": "code",
   "execution_count": 2,
   "metadata": {},
   "outputs": [],
   "source": [
    "onto = get_ontology(\"http://test.org/onto.owl\")"
   ]
  },
  {
   "cell_type": "code",
   "execution_count": 3,
   "metadata": {},
   "outputs": [],
   "source": [
    "class Drug(Thing):\n",
    "    namespace = onto"
   ]
  },
  {
   "cell_type": "code",
   "execution_count": 4,
   "metadata": {},
   "outputs": [
    {
     "data": {
      "text/plain": [
       "'http://test.org/onto.owl#Drug'"
      ]
     },
     "execution_count": 4,
     "metadata": {},
     "output_type": "execute_result"
    }
   ],
   "source": [
    "Drug.iri"
   ]
  },
  {
   "cell_type": "code",
   "execution_count": 17,
   "metadata": {},
   "outputs": [
    {
     "data": {
      "text/plain": [
       "owlready2.entity.ThingClass"
      ]
     },
     "execution_count": 17,
     "metadata": {},
     "output_type": "execute_result"
    }
   ],
   "source": [
    "Drug.__class__"
   ]
  },
  {
   "cell_type": "code",
   "execution_count": 7,
   "metadata": {},
   "outputs": [
    {
     "name": "stdout",
     "output_type": "stream",
     "text": [
      "[owl.Thing]\n"
     ]
    }
   ],
   "source": [
    "print(Drug.is_a)"
   ]
  },
  {
   "cell_type": "code",
   "execution_count": 9,
   "metadata": {},
   "outputs": [],
   "source": [
    "# A drug associating several active principles\n",
    "class DrugAssociation(Drug):\n",
    "    pass"
   ]
  },
  {
   "cell_type": "code",
   "execution_count": 97,
   "metadata": {},
   "outputs": [
    {
     "name": "stdout",
     "output_type": "stream",
     "text": [
      "[onto.Drug]\n"
     ]
    }
   ],
   "source": [
    "print(DrugAssociation.is_a)"
   ]
  },
  {
   "cell_type": "code",
   "execution_count": 99,
   "metadata": {},
   "outputs": [
    {
     "name": "stdout",
     "output_type": "stream",
     "text": [
      "<generator object EntityClass.subclasses at 0x7fcb7ca85250>\n",
      "onto.DrugAssociation\n",
      "onto.NewClassName\n"
     ]
    }
   ],
   "source": [
    "print(Drug.subclasses())\n",
    "\n",
    "for i in Drug.subclasses():\n",
    "    print(i)"
   ]
  },
  {
   "cell_type": "code",
   "execution_count": 82,
   "metadata": {},
   "outputs": [
    {
     "name": "stdout",
     "output_type": "stream",
     "text": [
      "DrugAssociation ancestors: {onto.DrugAssociation, onto.Drug, owl.Thing}\n",
      "DrugAssociation descendants: {onto.DrugAssociation}\n",
      "DrugAssociation descendants: {onto.DrugAssociation, onto.NewClassName, onto.Drug}\n"
     ]
    }
   ],
   "source": [
    "print(\"DrugAssociation ancestors:\",DrugAssociation.ancestors())\n",
    "print(\"DrugAssociation descendants:\",DrugAssociation.descendants())\n",
    "print(\"DrugAssociation descendants:\",Drug.descendants())"
   ]
  },
  {
   "cell_type": "code",
   "execution_count": 34,
   "metadata": {},
   "outputs": [],
   "source": [
    "import types\n",
    "with onto:\n",
    "    Drug2 = types.new_class(\"NewClassName\", (Drug,))"
   ]
  },
  {
   "cell_type": "code",
   "execution_count": 36,
   "metadata": {},
   "outputs": [
    {
     "name": "stdout",
     "output_type": "stream",
     "text": [
      "[onto.Drug]\n"
     ]
    }
   ],
   "source": [
    "print(Drug2.is_a)"
   ]
  },
  {
   "cell_type": "code",
   "execution_count": 66,
   "metadata": {},
   "outputs": [
    {
     "name": "stdout",
     "output_type": "stream",
     "text": [
      "onto.panadol\n",
      "panadol\n",
      "http://test.org/onto.owl#panadol\n",
      "\n",
      "********************\n",
      "\n",
      "onto.drug5\n",
      "drug5\n",
      "http://test.org/onto.owl#drug5\n"
     ]
    }
   ],
   "source": [
    "my_panadol = Drug(\"panadol\")\n",
    "print(my_panadol)\n",
    "print(my_panadol.name)\n",
    "print(my_panadol.iri)\n",
    "\n",
    "print(f\"\\n{'*'*20}\\n\")\n",
    "\n",
    "unamed_drug = Drug()\n",
    "print(unamed_drug)\n",
    "print(unamed_drug.name)\n",
    "print(unamed_drug.iri)"
   ]
  },
  {
   "cell_type": "code",
   "execution_count": 79,
   "metadata": {},
   "outputs": [
    {
     "data": {
      "text/plain": [
       "onto.Drug"
      ]
     },
     "execution_count": 79,
     "metadata": {},
     "output_type": "execute_result"
    }
   ],
   "source": [
    "my_panadol.__class__"
   ]
  },
  {
   "cell_type": "code",
   "execution_count": 64,
   "metadata": {},
   "outputs": [
    {
     "name": "stdout",
     "output_type": "stream",
     "text": [
      "onto.my_drug2\n",
      "my_drug2\n",
      "http://test.org/onto.owl#my_drug2\n"
     ]
    }
   ],
   "source": [
    "my_drug = Drug(\"my_drug2\", namespace = onto, has_for_active_principle = [])\n",
    "print(my_drug)\n",
    "print(my_drug.name)\n",
    "print(my_drug.iri)"
   ]
  },
  {
   "cell_type": "code",
   "execution_count": 62,
   "metadata": {},
   "outputs": [
    {
     "name": "stderr",
     "output_type": "stream",
     "text": [
      "* Owlready2 * Running HermiT...\n",
      "    java -Xmx2000M -cp /home/bbcym/anaconda3/lib/python3.7/site-packages/owlready2/hermit:/home/bbcym/anaconda3/lib/python3.7/site-packages/owlready2/hermit/HermiT.jar org.semanticweb.HermiT.cli.CommandLine -c -O -D -I file:////tmp/tmp_u1t2zir\n"
     ]
    },
    {
     "name": "stdout",
     "output_type": "stream",
     "text": [
      "[]\n",
      "[onto.Drug]\n",
      "[onto.Drug]\n",
      "[onto.Drug]\n"
     ]
    },
    {
     "name": "stderr",
     "output_type": "stream",
     "text": [
      "* Owlready2 * HermiT took 0.33679628372192383 seconds\n",
      "* Owlready * (NB: only changes on entities loaded in Python are shown, other changes are done but not listed)\n"
     ]
    }
   ],
   "source": [
    "sync_reasoner()\n",
    "print(Drug.equivalent_to)\n",
    "print(my_panadol.is_a)\n",
    "print(my_drug.is_a)\n",
    "print(unamed_drug.is_a)"
   ]
  },
  {
   "cell_type": "code",
   "execution_count": 92,
   "metadata": {},
   "outputs": [
    {
     "name": "stdout",
     "output_type": "stream",
     "text": [
      "<class 'owlready2.entity.ThingClass'>\n",
      "onto.my_drug\n",
      "[]\n",
      "onto.panadol\n",
      "[]\n",
      "onto.drug1\n",
      "[]\n",
      "onto.drug2\n",
      "[]\n",
      "onto.drug3\n",
      "[]\n",
      "onto.my_drug2\n",
      "[]\n",
      "onto.drug4\n",
      "[]\n",
      "onto.drug5\n",
      "[]\n",
      "onto.drug6\n",
      "[]\n",
      "onto.drug7\n",
      "[]\n",
      "onto.drug8\n",
      "[]\n"
     ]
    }
   ],
   "source": [
    "print(type(Drug))\n",
    "for i in Drug.instances():\n",
    "    print(i)\n",
    "    print(i.INDIRECT_equivalent_to)"
   ]
  },
  {
   "cell_type": "code",
   "execution_count": 74,
   "metadata": {},
   "outputs": [
    {
     "name": "stdout",
     "output_type": "stream",
     "text": [
      "onto.Drug\n",
      "<FusionClass owl.BloodBasedProduct, onto.Drug>\n"
     ]
    }
   ],
   "source": [
    "class BloodBasedProduct(Thing):\n",
    "    ontology = onto\n",
    "\n",
    "a_blood_based_drug = Drug()\n",
    "print(type(a_blood_based_drug))\n",
    "a_blood_based_drug.is_a.append(BloodBasedProduct)\n",
    "print(type(a_blood_based_drug))"
   ]
  },
  {
   "cell_type": "code",
   "execution_count": 71,
   "metadata": {},
   "outputs": [
    {
     "name": "stdout",
     "output_type": "stream",
     "text": [
      "[onto.Drug, owl.BloodBasedProduct]\n",
      "<FusionClass owl.BloodBasedProduct, onto.Drug>\n"
     ]
    }
   ],
   "source": [
    "print(a_blood_based_drug.is_a)\n",
    "print(type(a_blood_based_drug))"
   ]
  },
  {
   "cell_type": "code",
   "execution_count": 100,
   "metadata": {},
   "outputs": [
    {
     "name": "stdout",
     "output_type": "stream",
     "text": [
      "onto.my_drug\n",
      "onto.panadol\n",
      "onto.drug1\n",
      "onto.drug2\n",
      "onto.drug3\n",
      "onto.my_drug2\n",
      "onto.drug4\n",
      "onto.drug5\n",
      "onto.drug6\n",
      "onto.drug7\n",
      "onto.drug8\n"
     ]
    }
   ],
   "source": [
    "for i in Drug.instances(): print(i)"
   ]
  },
  {
   "cell_type": "code",
   "execution_count": 102,
   "metadata": {},
   "outputs": [
    {
     "name": "stdout",
     "output_type": "stream",
     "text": [
      "onto.my_drug\n",
      "onto.panadol\n",
      "onto.drug1\n",
      "onto.drug2\n",
      "onto.drug3\n",
      "onto.my_drug2\n",
      "onto.drug4\n",
      "onto.drug5\n",
      "onto.drug6\n",
      "onto.drug7\n",
      "onto.drug8\n",
      "onto.my_drug3\n"
     ]
    }
   ],
   "source": [
    "assert Drug(\"my_drug3\") is Drug(\"my_drug3\") #也可以用assert來增加\n",
    "for i in Drug.instances(): print(i)"
   ]
  },
  {
   "cell_type": "code",
   "execution_count": null,
   "metadata": {},
   "outputs": [],
   "source": []
  },
  {
   "cell_type": "code",
   "execution_count": 107,
   "metadata": {},
   "outputs": [
    {
     "name": "stdout",
     "output_type": "stream",
     "text": [
      "set()\n"
     ]
    }
   ],
   "source": []
  },
  {
   "cell_type": "code",
   "execution_count": null,
   "metadata": {},
   "outputs": [],
   "source": []
  },
  {
   "cell_type": "code",
   "execution_count": null,
   "metadata": {},
   "outputs": [],
   "source": []
  },
  {
   "cell_type": "code",
   "execution_count": null,
   "metadata": {},
   "outputs": [],
   "source": []
  }
 ],
 "metadata": {
  "kernelspec": {
   "display_name": "Python 3",
   "language": "python",
   "name": "python3"
  },
  "language_info": {
   "codemirror_mode": {
    "name": "ipython",
    "version": 3
   },
   "file_extension": ".py",
   "mimetype": "text/x-python",
   "name": "python",
   "nbconvert_exporter": "python",
   "pygments_lexer": "ipython3",
   "version": "3.7.1"
  }
 },
 "nbformat": 4,
 "nbformat_minor": 4
}
