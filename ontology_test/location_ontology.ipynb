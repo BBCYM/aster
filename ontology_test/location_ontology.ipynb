{
 "cells": [
  {
   "cell_type": "code",
   "execution_count": null,
   "metadata": {},
   "outputs": [],
   "source": [
    "taiwan_city = {\n",
    "    '臺北市': [\n",
    "        '中正區', '大同區', '中山區', '萬華區', '信義區', '松山區', '大安區', '南港區', '北投區', '內湖區', '士林區', '文山區'\n",
    "    ],\n",
    "    '新北市': [\n",
    "        '板橋區', '新莊區', '泰山區', '林口區', '淡水區', '金山區', '八里區', '萬里區', '石門區', '三芝區', '瑞芳區', '汐止區', '平溪區', '貢寮區', '雙溪區', '深坑區', '石碇區', '新店區', '坪林區', '烏來區', '中和區', '永和區', '土城區', '三峽區', '樹林區', '鶯歌區', '三重區', '蘆洲區', '五股區'\n",
    "    ],\n",
    "    '基隆市': [\n",
    "        '仁愛區', '中正區', '信義區', '中山區', '安樂區', '暖暖區', '七堵區'\n",
    "    ],\n",
    "    '桃園市': [\n",
    "        '桃園區', '中壢區', '平鎮區', '八德區', '楊梅區', '蘆竹區', '龜山區', '龍潭區', '大溪區', '大園區', '觀音區', '新屋區', '復興區'\n",
    "    ],\n",
    "    '新竹縣': [\n",
    "        '竹北市', '竹東鎮', '新埔鎮', '關西鎮', '峨眉鄉', '寶山鄉', '北埔鄉', '橫山鄉', '芎林鄉', '湖口鄉', '新豐鄉', '尖石鄉', '五峰鄉'\n",
    "    ],\n",
    "    '新竹市': [\n",
    "        '東區', '北區', '香山區'\n",
    "    ],\n",
    "    '苗栗縣': [\n",
    "        '苗栗市', '通霄鎮', '苑裡鎮', '竹南鎮', '頭份鎮', '後龍鎮', '卓蘭鎮', '西湖鄉', '頭屋鄉', '公館鄉', '銅鑼鄉', '三義鄉', '造橋鄉', '三灣鄉', '南庄鄉', '大湖鄉', '獅潭鄉', '泰安鄉'\n",
    "    ],\n",
    "    '臺中市': [\n",
    "        '中區', '東區', '南區', '西區', '北區', '北屯區', '西屯區', '南屯區', '太平區', '大里區', '霧峰區', '烏日區', '豐原區', '后里區', '東勢區', '石岡區', '新社區', '和平區', '神岡區', '潭子區', '大雅區', '大肚區', '龍井區', '沙鹿區', '梧棲區', '清水區', '大甲區', '外埔區', '大安區'\n",
    "    ],\n",
    "    '南投縣': [\n",
    "        '南投市', '埔里鎮', '草屯鎮', '竹山鎮', '集集鎮', '名間鄉', '鹿谷鄉', '中寮鄉', '魚池鄉', '國姓鄉', '水里鄉', '信義鄉', '仁愛鄉'\n",
    "    ],\n",
    "    '彰化縣': [\n",
    "        '彰化市', '員林鎮', '和美鎮', '鹿港鎮', '溪湖鎮', '二林鎮', '田中鎮', '北斗鎮', '花壇鄉', '芬園鄉', '大村鄉', '永靖鄉', '伸港鄉', '線西鄉', '福興鄉', '秀水鄉', '埔心鄉', '埔鹽鄉', '大城鄉', '芳苑鄉', '竹塘鄉', '社頭鄉', '二水鄉', '田尾鄉', '埤頭鄉', '溪州鄉'\n",
    "    ],\n",
    "    '雲林縣': [\n",
    "        '斗六市', '斗南鎮', '虎尾鎮', '西螺鎮', '土庫鎮', '北港鎮', '莿桐鄉', '林內鄉', '古坑鄉', '大埤鄉', '崙背鄉', '二崙鄉', '麥寮鄉', '臺西鄉', '東勢鄉', '褒忠鄉', '四湖鄉', '口湖鄉', '水林鄉', '元長鄉'\n",
    "    ],\n",
    "    '嘉義縣': [\n",
    "        '太保市', '朴子市', '布袋鎮', '大林鎮', '民雄鄉', '溪口鄉', '新港鄉', '六腳鄉', '東石鄉', '義竹鄉', '鹿草鄉', '水上鄉', '中埔鄉', '竹崎鄉', '梅山鄉', '番路鄉', '大埔鄉', '阿里山鄉'\n",
    "    ],\n",
    "    '嘉義市': [\n",
    "        '東區', '西區'\n",
    "    ],\n",
    "    '臺南市': [\n",
    "        '中西區', '東區', '南區', '北區', '安平區', '安南區', '永康區', '歸仁區', '新化區', '左鎮區', '玉井區', '楠西區', '南化區', '仁德區', '關廟區', '龍崎區', '官田區', '麻豆區', '佳里區', '西港區', '七股區', '將軍區', '學甲區', '北門區', '新營區', '後壁區', '白河區', '東山區', '六甲區', '下營區', '柳營區', '鹽水區', '善化區', '大內區', '山上區', '新市區', '安定區'\n",
    "    ],\n",
    "    '高雄市': [\n",
    "        '楠梓區', '左營區', '鼓山區', '三民區', '鹽埕區', '前金區', '新興區', '苓雅區', '前鎮區', '小港區', '旗津區', '鳳山區', '大寮區', '鳥松區', '林園區', '仁武區', '大樹區', '大社區', '岡山區', '路竹區', '橋頭區', '梓官區', '彌陀區', '永安區', '燕巢區', '田寮區', '阿蓮區', '茄萣區', '湖內區', '旗山區', '美濃區', '內門區', '杉林區', '甲仙區', '六龜區', '茂林區', '桃源區', '那瑪夏區'\n",
    "    ],\n",
    "    '屏東縣': [\n",
    "        '屏東市', '潮州鎮', '東港鎮', '恆春鎮', '萬丹鄉', '長治鄉', '麟洛鄉', '九如鄉', '里港鄉', '鹽埔鄉', '高樹鄉', '萬巒鄉', '內埔鄉', '竹田鄉', '新埤鄉', '枋寮鄉', '新園鄉', '崁頂鄉', '林邊鄉', '南州鄉', '佳冬鄉', '琉球鄉', '車城鄉', '滿州鄉', '枋山鄉', '霧台鄉', '瑪家鄉', '泰武鄉', '來義鄉', '春日鄉', '獅子鄉', '牡丹鄉', '三地門鄉'\n",
    "    ],\n",
    "    '宜蘭縣': [\n",
    "        '宜蘭市', '羅東鎮', '蘇澳鎮', '頭城鎮', '礁溪鄉', '壯圍鄉', '員山鄉', '冬山鄉', '五結鄉', '三星鄉', '大同鄉', '南澳鄉'\n",
    "    ],\n",
    "    '花蓮縣': [\n",
    "        '花蓮市', '鳳林鎮', '玉里鎮', '新城鄉', '吉安鄉', '壽豐鄉', '秀林鄉', '光復鄉', '豐濱鄉', '瑞穗鄉', '萬榮鄉', '富里鄉', '卓溪鄉'\n",
    "    ],\n",
    "    '臺東縣': [\n",
    "        '臺東市', '成功鎮', '關山鎮', '長濱鄉', '海端鄉', '池上鄉', '東河鄉', '鹿野鄉', '延平鄉', '卑南鄉', '金峰鄉', '大武鄉', '達仁鄉', '綠島鄉', '蘭嶼鄉', '太麻里鄉'\n",
    "    ],\n",
    "    '澎湖縣': [\n",
    "        '馬公市', '湖西鄉', '白沙鄉', '西嶼鄉', '望安鄉', '七美鄉'\n",
    "    ],\n",
    "    '金門縣': [\n",
    "        '金城鎮', '金湖鎮', '金沙鎮', '金寧鄉', '烈嶼鄉', '烏坵鄉'\n",
    "    ],\n",
    "    '連江縣': [\n",
    "        '南竿鄉', '北竿鄉', '莒光鄉', '東引鄉'\n",
    "    ]\n",
    "}\n",
    "taiwan_area = {\n",
    "    '北部':['臺北市','新北市', '基隆市','桃園市','新竹縣','新竹市','苗栗縣'],\n",
    "    '中部':['南投縣','臺中市','彰化縣'],\n",
    "    '南部':['雲林縣','嘉義縣','嘉義市','臺南市','高雄市','屏東縣'],\n",
    "    '東部':['宜蘭縣','花蓮縣','臺東縣'],\n",
    "    '離島':['澎湖縣','金門縣','連江縣']\n",
    "}\n",
    "\n",
    "japan_city = {\n",
    "    '北海道地方': [\n",
    "        '北海道'\n",
    "    ],\n",
    "    '東北地方': [\n",
    "        '青森', '岩手', '宮城', '秋田', '山形', '福島'\n",
    "    ],\n",
    "    '關東地方': [\n",
    "        '茨城', '栃木', '群馬', '埼玉', '千葉', '東京', '神奈川'\n",
    "    ],\n",
    "    '中部地方': [\n",
    "        '新潟', '富山', '石川', '福井', '山梨', '長野', '岐阜', '靜岡', '愛知'\n",
    "    ],\n",
    "    '近畿地方': [\n",
    "        '三重', '滋賀', '京都', '大阪', '兵庫', '奈良', '和歌山'\n",
    "    ],\n",
    "    '中國地方': [\n",
    "        '鳥取', '島根', '岡山', '廣島', '山口'\n",
    "    ],\n",
    "    '四國地方': [\n",
    "        '德島', '香川', '愛媛', '高知'\n",
    "    ],\n",
    "    '九州地方': [\n",
    "        '福岡', '佐賀', '長崎', '熊本', '大分', '宮崎', '鹿兒島'\n",
    "    ],\n",
    "    '沖繩地方': [\n",
    "        '沖繩'\n",
    "    ]\n",
    "}\n",
    "\n",
    "japan_area = {\n",
    "    '北海':['北海道地方'],\n",
    "    '本州':['東北地方','關東地方','中部地方','近畿地方','中國地方'],\n",
    "    '四國':['四國地方'],\n",
    "    '九州':['九州地方'],\n",
    "    '琉球群島':['沖繩地方']\n",
    "}"
   ]
  },
  {
   "cell_type": "code",
   "execution_count": null,
   "metadata": {},
   "outputs": [],
   "source": [
    "from owlready2 import *\n",
    "onto_location = get_ontology(\"http://test.org/onto.owl\")"
   ]
  },
  {
   "cell_type": "code",
   "execution_count": null,
   "metadata": {},
   "outputs": [],
   "source": [
    "import pprint\n",
    "pp = pprint.PrettyPrinter(indent=4)"
   ]
  },
  {
   "cell_type": "code",
   "execution_count": null,
   "metadata": {},
   "outputs": [],
   "source": [
    "with onto_location:\n",
    "    class Country(Thing):\n",
    "        def locate(self): print('I am a country')\n",
    "            \n",
    "    class Area(Thing):\n",
    "        def locate(self): print('I am a Area')\n",
    "            \n",
    "    class City(Thing):\n",
    "        def locate(self): print('I am a city')\n",
    "            \n",
    "    class District(Thing):\n",
    "        def locate(self): print('I am a district')\n",
    "    \n",
    "    class Road(Thing):\n",
    "        def locate(self): print('I am a road')\n",
    "            \n",
    "    class country_has_a(ObjectProperty):\n",
    "        domain = [Country]\n",
    "        range = [City]\n",
    "    \n",
    "    class city_is_in(ObjectProperty):\n",
    "        domain = [City]\n",
    "        range = [Country]\n",
    "        inverse_property = country_has_a\n",
    "        \n",
    "    class city_in_area(ObjectProperty):\n",
    "        domain = [City]\n",
    "        range = [Area]\n",
    "        \n",
    "    class area_has_a(ObjectProperty):\n",
    "        domain = [Area]\n",
    "        range = [City]\n",
    "        inverse_property = city_in_area\n",
    "        \n",
    "    class city_has_a(ObjectProperty):\n",
    "        domain = [City]\n",
    "        range = [District]\n",
    "        \n",
    "    class district_is_in(ObjectProperty):\n",
    "        domain = [District]\n",
    "        range = [City]\n",
    "        inverse_property = city_has_a\n",
    "        \n",
    "    class district_has_a(ObjectProperty):\n",
    "        domain = [District]\n",
    "        range = [Road]\n",
    "        \n",
    "    class road_is_in(ObjectProperty):\n",
    "        domain = [District]\n",
    "        range = [Road]"
   ]
  },
  {
   "cell_type": "code",
   "execution_count": null,
   "metadata": {},
   "outputs": [],
   "source": [
    "    def create_city_instance(city_name):\n",
    "        return City(city_name)\n",
    "\n",
    "    def create_area_instance(area_name):\n",
    "        return Area(area_name)\n",
    "\n",
    "    def check_area(city_name):\n",
    "        for i in taiwan_area:\n",
    "            for j in taiwan_area[i]:\n",
    "                if city_name == j:\n",
    "                    return i\n",
    "        for i in japan_area:\n",
    "            for j in japan_area[i]:\n",
    "                if city_name == j:\n",
    "                    return i\n",
    "                \n",
    "    def locate_city(location_tag):\n",
    "        dis = District(location_tag)\n",
    "        return dis.district_is_in[0].name\n",
    "\n",
    "    def locate_country(location_tag):\n",
    "        cit = City(location_tag)\n",
    "        return cit.city_is_in[0].name\n",
    "\n",
    "    def locate_area(location_tag):\n",
    "        cit = City(location_tag)\n",
    "        return cit.city_in_area[0].name"
   ]
  },
  {
   "cell_type": "code",
   "execution_count": null,
   "metadata": {},
   "outputs": [],
   "source": [
    "pp.pprint(onto_location.Country.__dict__)\n",
    "pp.pprint(onto_location.Area.__dict__)\n",
    "pp.pprint(onto_location.City.__dict__)\n",
    "pp.pprint(onto_location.District.__dict__)\n",
    "pp.pprint(onto_location.Road.__dict__)"
   ]
  },
  {
   "cell_type": "code",
   "execution_count": null,
   "metadata": {},
   "outputs": [],
   "source": [
    "def create_city_instance(city_name):\n",
    "    return City(city_name)\n",
    "\n",
    "def create_area_instance(area_name):\n",
    "    return Area(area_name)\n",
    "\n",
    "def check_area(city_name):\n",
    "    for i in taiwan_area:\n",
    "        for j in taiwan_area[i]:\n",
    "            if city_name == j:\n",
    "                return i\n",
    "    for i in japan_area:\n",
    "        for j in japan_area[i]:\n",
    "            if city_name == j:\n",
    "                return i\n",
    "\n",
    "city_array_taiwan = [create_city_instance(x) for x in taiwan_city]\n",
    "print(city_array_taiwan)\n",
    "city_array_japan = [create_city_instance(x) for x in japan_city]\n",
    "print(city_array_japan)\n",
    "\n",
    "area_array_taiwan = [create_area_instance(x) for x in taiwan_area]\n",
    "print(area_array_taiwan)\n",
    "area_array_japan = [create_area_instance(x) for x in japan_area]\n",
    "print(area_array_japan)\n",
    "\n",
    "print(check_area(\"臺北市\"))\n",
    "print(check_area(\"關東地方\"))"
   ]
  },
  {
   "cell_type": "code",
   "execution_count": null,
   "metadata": {},
   "outputs": [],
   "source": [
    "for c in city_array_taiwan:\n",
    "    area_tag = check_area(c.name)\n",
    "    tw_area = create_area_instance(area_tag)\n",
    "    c.city_in_area.append(tw_area)\n",
    "    \n",
    "    for k in taiwan_city[c.name]:\n",
    "        dis = District(k)\n",
    "        c.city_has_a.append(dis)"
   ]
  },
  {
   "cell_type": "code",
   "execution_count": null,
   "metadata": {},
   "outputs": [],
   "source": [
    "for c in city_array_japan:\n",
    "    area_tag = check_area(c.name)\n",
    "    jp_area = create_area_instance(area_tag)\n",
    "    c.city_in_area.append(jp_area)\n",
    "    \n",
    "    for k in japan_city[c.name]:\n",
    "        dis = District(k)\n",
    "        c.city_has_a.append(dis)\n",
    "        pp.pprint(c.__dict__)"
   ]
  },
  {
   "cell_type": "code",
   "execution_count": null,
   "metadata": {},
   "outputs": [],
   "source": [
    "c.__dict__"
   ]
  },
  {
   "cell_type": "code",
   "execution_count": null,
   "metadata": {},
   "outputs": [],
   "source": [
    "taiwan = Country('台灣')\n",
    "taiwan.country_has_a = city_array_taiwan\n",
    "\n",
    "japan = Country('日本')\n",
    "japan.country_has_a = city_array_japan\n",
    "\n",
    "pp.pprint(taiwan.country_has_a)\n",
    "pp.pprint(japan.country_has_a)"
   ]
  },
  {
   "cell_type": "code",
   "execution_count": null,
   "metadata": {},
   "outputs": [],
   "source": [
    "print(locate_city('東京'))\n",
    "print(locate_city('大同區'))\n",
    "print(locate_city('八德區'))\n",
    "print(locate_city('新城鄉'))\n",
    "print(locate_country('臺東縣'))\n",
    "print(locate_country('桃園市'))\n",
    "print(locate_country(locate_city('八德區')))"
   ]
  },
  {
   "cell_type": "code",
   "execution_count": null,
   "metadata": {},
   "outputs": [],
   "source": [
    "place = '中壢區'\n",
    "print(locate_city(place))\n",
    "print(locate_area(locate_city(place)))\n",
    "print(locate_country(locate_city(place)))"
   ]
  },
  {
   "cell_type": "code",
   "execution_count": null,
   "metadata": {},
   "outputs": [],
   "source": [
    "onto_location.save(file = \"location_onto.owl\", format = \"rdfxml\")"
   ]
  },
  {
   "cell_type": "code",
   "execution_count": null,
   "metadata": {},
   "outputs": [],
   "source": []
  },
  {
   "cell_type": "code",
   "execution_count": 1,
   "metadata": {},
   "outputs": [
    {
     "name": "stdout",
     "output_type": "stream",
     "text": [
      "location_ontology.District\n"
     ]
    },
    {
     "name": "stderr",
     "output_type": "stream",
     "text": [
      "* Owlready2 * Warning: optimized Cython parser module 'owlready2_optimized' is not available, defaulting to slower Python implementation\n"
     ]
    }
   ],
   "source": [
    "from owlready2 import *\n",
    "onto_location = get_ontology(\"file://C:/Users/USER/Desktop/aster/ontology/location_ontology.owl\").load()\n",
    "print(onto_location.District)\n"
   ]
  },
  {
   "cell_type": "code",
   "execution_count": 10,
   "metadata": {},
   "outputs": [],
   "source": [
    "def get_location(location_tag):\n",
    "    \n",
    "    def locate_city(location_tag):\n",
    "        dis = onto_location.District(location_tag)\n",
    "        return dis.district_is_in[0].name\n",
    "\n",
    "    def locate_country(location_tag):\n",
    "        cit = onto_location.City(location_tag)\n",
    "        return cit.city_is_in[0].name\n",
    "\n",
    "    def locate_area(location_tag):\n",
    "        cit = onto_location.City(location_tag)\n",
    "        return cit.city_in_area[0].name\n",
    "    \n",
    "    city = locate_city(location_tag)\n",
    "    area = locate_area(locate_city(place))\n",
    "    country = locate_country(locate_city(place))\n",
    "    \n",
    "    return [city, area, country]"
   ]
  },
  {
   "cell_type": "code",
   "execution_count": 6,
   "metadata": {},
   "outputs": [],
   "source": [
    "def locate_city(location_tag):\n",
    "    dis = onto_location.District(location_tag)\n",
    "    return dis.district_is_in[0].name\n",
    "\n",
    "def locate_country(location_tag):\n",
    "    cit = onto_location.City(location_tag)\n",
    "    return cit.city_is_in[0].name\n",
    "\n",
    "def locate_area(location_tag):\n",
    "    cit = onto_location.City(location_tag)\n",
    "    return cit.city_in_area[0].name"
   ]
  },
  {
   "cell_type": "code",
   "execution_count": 8,
   "metadata": {},
   "outputs": [
    {
     "name": "stdout",
     "output_type": "stream",
     "text": [
      "桃園市\n",
      "北部\n",
      "台灣\n"
     ]
    }
   ],
   "source": [
    "place = '中壢區'\n",
    "print(locate_city(place))\n",
    "print(locate_area(locate_city(place)))\n",
    "print(locate_country(locate_city(place)))"
   ]
  },
  {
   "cell_type": "code",
   "execution_count": 11,
   "metadata": {},
   "outputs": [
    {
     "data": {
      "text/plain": [
       "['桃園市', '北部', '台灣']"
      ]
     },
     "execution_count": 11,
     "metadata": {},
     "output_type": "execute_result"
    }
   ],
   "source": [
    "get_location('中壢區')"
   ]
  },
  {
   "cell_type": "code",
   "execution_count": null,
   "metadata": {},
   "outputs": [],
   "source": []
  },
  {
   "cell_type": "code",
   "execution_count": null,
   "metadata": {},
   "outputs": [],
   "source": [
    "#取得道路位置(尚未完成)\n",
    "import requests\n",
    "\n",
    "town = []\n",
    "road_list = []\n",
    "\n",
    "def url_request_page():\n",
    "    url = \"https://www.ris.gov.tw/rs-opendata/api/v1/datastore/ODRP049/108?page=\"+str(page)\n",
    "    raw_data = requests.get(url).text\n",
    "    data = eval(raw_data)[\"responseData\"]\n",
    "    return data\n",
    "\n",
    "for page in range(1,18):\n",
    "    print(page)\n",
    "    for i in url_request_page(page):\n",
    "        town_len = len(i['\\ufeffcity'])\n",
    "        new_town = i[\"site_id\"][town_len:]\n",
    "        if new_town not in town:\n",
    "            town.append(new_town)\n",
    "        \n",
    "print(town)"
   ]
  }
 ],
 "metadata": {
  "kernelspec": {
   "display_name": "Python 3",
   "language": "python",
   "name": "python3"
  },
  "language_info": {
   "codemirror_mode": {
    "name": "ipython",
    "version": 3
   },
   "file_extension": ".py",
   "mimetype": "text/x-python",
   "name": "python",
   "nbconvert_exporter": "python",
   "pygments_lexer": "ipython3",
   "version": "3.7.1"
  }
 },
 "nbformat": 4,
 "nbformat_minor": 4
}
