{
 "cells": [
  {
   "cell_type": "code",
   "execution_count": 2,
   "metadata": {},
   "outputs": [],
   "source": [
    "import os\n",
    "import sys\n",
    "from google.auth.transport.requests import Request, AuthorizedSession\n",
    "from google.cloud.vision import ImageAnnotatorClient, types\n",
    "from google.oauth2 import id_token, credentials, service_account\n",
    "import pandas"
   ]
  },
  {
   "cell_type": "code",
   "execution_count": 3,
   "metadata": {},
   "outputs": [],
   "source": [
    "credent = service_account.Credentials.from_service_account_file(\n",
    "    'anster-1593361678608.json')"
   ]
  },
  {
   "cell_type": "code",
   "execution_count": 4,
   "metadata": {},
   "outputs": [],
   "source": [
    "def localize_objects(path):\n",
    "    \"\"\"Localize objects in the local image.\n",
    "\n",
    "    Args:\n",
    "    path: The path to the local file.\n",
    "    \"\"\"\n",
    "    from google.cloud import vision\n",
    "    client = vision.ImageAnnotatorClient(credentials=credent)\n",
    "\n",
    "    with open(path, 'rb') as image_file:\n",
    "        content = image_file.read()\n",
    "    image = vision.types.Image(content=content)\n",
    "\n",
    "    objects = client.object_localization(\n",
    "        image=image).localized_object_annotations\n",
    "    \n",
    "    print('Number of objects found: {}'.format(len(objects)))\n",
    "    for object_ in objects:\n",
    "        print('\\n{} (confidence: {})'.format(object_.name, object_.score))\n",
    "        print('Normalized bounding polygon vertices: ')\n",
    "        for vertex in object_.bounding_poly.normalized_vertices:\n",
    "            print(' - ({}, {})'.format(vertex.x, vertex.y))"
   ]
  },
  {
   "cell_type": "code",
   "execution_count": 6,
   "metadata": {},
   "outputs": [
    {
     "name": "stdout",
     "output_type": "stream",
     "text": [
      "Number of objects found: 1\n",
      "\n",
      "Dog (confidence: 0.9352871179580688)\n",
      "Normalized bounding polygon vertices: \n",
      " - (0.18063236773014069, 0.32402315735816956)\n",
      " - (0.718848705291748, 0.32402315735816956)\n",
      " - (0.718848705291748, 0.8191840648651123)\n",
      " - (0.18063236773014069, 0.8191840648651123)\n"
     ]
    }
   ],
   "source": [
    "localize_objects('dog1.jpg')"
   ]
  },
  {
   "cell_type": "code",
   "execution_count": 7,
   "metadata": {},
   "outputs": [
    {
     "name": "stdout",
     "output_type": "stream",
     "text": [
      "Number of objects found: 1\n",
      "\n",
      "Person (confidence: 0.8942667245864868)\n",
      "Normalized bounding polygon vertices: \n",
      " - (0.4231933057308197, 0.4484865367412567)\n",
      " - (0.506283700466156, 0.4484865367412567)\n",
      " - (0.506283700466156, 0.7235448360443115)\n",
      " - (0.4231933057308197, 0.7235448360443115)\n"
     ]
    }
   ],
   "source": [
    "localize_objects('ocean.jpg')"
   ]
  },
  {
   "cell_type": "code",
   "execution_count": 5,
   "metadata": {},
   "outputs": [
    {
     "name": "stdout",
     "output_type": "stream",
     "text": [
      "Number of objects found: 3\n",
      "\n",
      "Person (confidence: 0.922547459602356)\n",
      "Normalized bounding polygon vertices: \n",
      " - (0.1581546664237976, 0.010749110020697117)\n",
      " - (0.8637005686759949, 0.010749110020697117)\n",
      " - (0.8637005686759949, 0.932564914226532)\n",
      " - (0.1581546664237976, 0.932564914226532)\n",
      "\n",
      "Tie (confidence: 0.8471198678016663)\n",
      "Normalized bounding polygon vertices: \n",
      " - (0.41399744153022766, 0.07592389732599258)\n",
      " - (0.5372000932693481, 0.07592389732599258)\n",
      " - (0.5372000932693481, 0.7276794910430908)\n",
      " - (0.41399744153022766, 0.7276794910430908)\n",
      "\n",
      "Pants (confidence: 0.6728125810623169)\n",
      "Normalized bounding polygon vertices: \n",
      " - (0.24445883929729462, 0.7044442296028137)\n",
      " - (0.7686130404472351, 0.7044442296028137)\n",
      " - (0.7686130404472351, 0.9973958134651184)\n",
      " - (0.24445883929729462, 0.9973958134651184)\n"
     ]
    }
   ],
   "source": [
    "localize_objects('blue_suit.jpg')"
   ]
  },
  {
   "cell_type": "code",
   "execution_count": 8,
   "metadata": {},
   "outputs": [
    {
     "name": "stdout",
     "output_type": "stream",
     "text": [
      "Number of objects found: 5\n",
      "\n",
      "Pants (confidence: 0.9622306823730469)\n",
      "Normalized bounding polygon vertices: \n",
      " - (0.35649558901786804, 0.4512944221496582)\n",
      " - (0.5985859036445618, 0.4512944221496582)\n",
      " - (0.5985859036445618, 0.9061022400856018)\n",
      " - (0.35649558901786804, 0.9061022400856018)\n",
      "\n",
      "Outerwear (confidence: 0.9289688467979431)\n",
      "Normalized bounding polygon vertices: \n",
      " - (0.28234556317329407, 0.16609878838062286)\n",
      " - (0.6613409519195557, 0.16609878838062286)\n",
      " - (0.6613409519195557, 0.5263592004776001)\n",
      " - (0.28234556317329407, 0.5263592004776001)\n",
      "\n",
      "Person (confidence: 0.9164541959762573)\n",
      "Normalized bounding polygon vertices: \n",
      " - (0.27640166878700256, 0.05019020661711693)\n",
      " - (0.6710492968559265, 0.05019020661711693)\n",
      " - (0.6710492968559265, 0.9769713878631592)\n",
      " - (0.27640166878700256, 0.9769713878631592)\n",
      "\n",
      "Tie (confidence: 0.8573588728904724)\n",
      "Normalized bounding polygon vertices: \n",
      " - (0.46268078684806824, 0.2116459608078003)\n",
      " - (0.5144669413566589, 0.2116459608078003)\n",
      " - (0.5144669413566589, 0.47074806690216064)\n",
      " - (0.46268078684806824, 0.47074806690216064)\n",
      "\n",
      "Footwear (confidence: 0.5752718448638916)\n",
      "Normalized bounding polygon vertices: \n",
      " - (0.4249512851238251, 0.8507060408592224)\n",
      " - (0.5395196080207825, 0.8507060408592224)\n",
      " - (0.5395196080207825, 0.9738240838050842)\n",
      " - (0.4249512851238251, 0.9738240838050842)\n"
     ]
    }
   ],
   "source": [
    "localize_objects('blue_suit2.jpg')"
   ]
  },
  {
   "cell_type": "code",
   "execution_count": 7,
   "metadata": {},
   "outputs": [
    {
     "name": "stdout",
     "output_type": "stream",
     "text": [
      "Number of objects found: 3\n",
      "\n",
      "Person (confidence: 0.8441011905670166)\n",
      "Normalized bounding polygon vertices: \n",
      " - (0.10517372936010361, 0.008480430580675602)\n",
      " - (0.8446674346923828, 0.008480430580675602)\n",
      " - (0.8446674346923828, 0.9942386746406555)\n",
      " - (0.10517372936010361, 0.9942386746406555)\n",
      "\n",
      "Outerwear (confidence: 0.7611817717552185)\n",
      "Normalized bounding polygon vertices: \n",
      " - (0.10612916946411133, 0.5228164196014404)\n",
      " - (0.842162549495697, 0.5228164196014404)\n",
      " - (0.842162549495697, 0.9973203539848328)\n",
      " - (0.10612916946411133, 0.9973203539848328)\n",
      "\n",
      "Furniture (confidence: 0.5073884725570679)\n",
      "Normalized bounding polygon vertices: \n",
      " - (0.7787922024726868, 0.370620459318161)\n",
      " - (0.9958969950675964, 0.370620459318161)\n",
      " - (0.9958969950675964, 0.9973958730697632)\n",
      " - (0.7787922024726868, 0.9973958730697632)\n"
     ]
    }
   ],
   "source": [
    "localize_objects('girl.jpg')"
   ]
  }
 ],
 "metadata": {
  "kernelspec": {
   "display_name": "Python 3",
   "language": "python",
   "name": "python3"
  },
  "language_info": {
   "codemirror_mode": {
    "name": "ipython",
    "version": 3
   },
   "file_extension": ".py",
   "mimetype": "text/x-python",
   "name": "python",
   "nbconvert_exporter": "python",
   "pygments_lexer": "ipython3",
   "version": "3.7.1"
  }
 },
 "nbformat": 4,
 "nbformat_minor": 4
}
