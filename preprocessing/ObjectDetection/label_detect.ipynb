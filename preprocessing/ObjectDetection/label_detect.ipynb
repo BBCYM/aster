{
 "cells": [
  {
   "cell_type": "code",
   "execution_count": 2,
   "metadata": {},
   "outputs": [],
   "source": [
    "import os\n",
    "import sys\n",
    "from google.auth.transport.requests import Request, AuthorizedSession\n",
    "from google.cloud.vision import ImageAnnotatorClient, types\n",
    "from google.oauth2 import id_token, credentials, service_account\n",
    "import pandas"
   ]
  },
  {
   "cell_type": "code",
   "execution_count": 5,
   "metadata": {},
   "outputs": [
    {
     "data": {
      "text/plain": [
       "<google.cloud.vision_v1.ImageAnnotatorClient at 0x280761304e0>"
      ]
     },
     "execution_count": 5,
     "metadata": {},
     "output_type": "execute_result"
    }
   ],
   "source": [
    "client"
   ]
  },
  {
   "cell_type": "code",
   "execution_count": 4,
   "metadata": {},
   "outputs": [
    {
     "data": {
      "text/plain": [
       "label_annotations {\n",
       "  mid: \"/m/0b3yr\"\n",
       "  description: \"Beach\"\n",
       "  score: 0.9872979521751404\n",
       "  topicality: 0.9872979521751404\n",
       "}\n",
       "label_annotations {\n",
       "  mid: \"/m/02p0sll\"\n",
       "  description: \"Wave\"\n",
       "  score: 0.9784883856773376\n",
       "  topicality: 0.9784883856773376\n",
       "}\n",
       "label_annotations {\n",
       "  mid: \"/m/03ktm1\"\n",
       "  description: \"Body of water\"\n",
       "  score: 0.9778664112091064\n",
       "  topicality: 0.9778664112091064\n",
       "}\n",
       "label_annotations {\n",
       "  mid: \"/m/02fm9k\"\n",
       "  description: \"Shore\"\n",
       "  score: 0.9759832620620728\n",
       "  topicality: 0.9759832620620728\n",
       "}\n",
       "label_annotations {\n",
       "  mid: \"/m/01lxd\"\n",
       "  description: \"Coast\"\n",
       "  score: 0.967199981212616\n",
       "  topicality: 0.967199981212616\n",
       "}\n",
       "label_annotations {\n",
       "  mid: \"/m/05kq4\"\n",
       "  description: \"Ocean\"\n",
       "  score: 0.9611921310424805\n",
       "  topicality: 0.9611921310424805\n",
       "}\n",
       "label_annotations {\n",
       "  mid: \"/m/06npx\"\n",
       "  description: \"Sea\"\n",
       "  score: 0.9590173959732056\n",
       "  topicality: 0.9590173959732056\n",
       "}\n",
       "label_annotations {\n",
       "  mid: \"/m/034srq\"\n",
       "  description: \"Wind wave\"\n",
       "  score: 0.9347979426383972\n",
       "  topicality: 0.9347979426383972\n",
       "}\n",
       "label_annotations {\n",
       "  mid: \"/m/02py09\"\n",
       "  description: \"Natural environment\"\n",
       "  score: 0.9248972535133362\n",
       "  topicality: 0.9248972535133362\n",
       "}\n",
       "label_annotations {\n",
       "  mid: \"/m/0d1n2\"\n",
       "  description: \"Horizon\"\n",
       "  score: 0.9179908037185669\n",
       "  topicality: 0.9179908037185669\n",
       "}"
      ]
     },
     "execution_count": 4,
     "metadata": {},
     "output_type": "execute_result"
    }
   ],
   "source": [
    "res"
   ]
  },
  {
   "cell_type": "code",
   "execution_count": 20,
   "metadata": {},
   "outputs": [],
   "source": [
    "credent = service_account.Credentials.from_service_account_file(\n",
    "    'anster-1593361678608.json')\n",
    "\n",
    "# C: \\Users\\USER\\Desktop\\aster\\preprocessing\\ObjectDetection\\vision.py\n",
    "# C: \\Users\\USER\\Desktop\\aster\\backend\\anster-1593361678608.json\n",
    "client = ImageAnnotatorClient(credentials=credent)\n",
    "# filename = 'ImageFile/default_filename.jpg'\n",
    "filename = 'ocean2.jpg'\n",
    "with open(f'{filename}', 'rb') as f:\n",
    "    content = f.read()\n",
    "\n",
    "image = types.Image(content=content)\n",
    "res = client.label_detection(image=image)\n",
    "labels = res.label_annotations"
   ]
  },
  {
   "cell_type": "code",
   "execution_count": 12,
   "metadata": {},
   "outputs": [
    {
     "name": "stdout",
     "output_type": "stream",
     "text": [
      "['Dog', 'Mammal', 'Vertebrate', 'Canidae', 'Dog breed', 'Carnivore', 'Akita', 'Akita inu', 'Shiba inu', 'Canaan dog']\n"
     ]
    }
   ],
   "source": [
    "rt = []\n",
    "for label in labels:\n",
    "    rt.append(label.description)\n",
    "print(rt)"
   ]
  },
  {
   "cell_type": "code",
   "execution_count": 21,
   "metadata": {},
   "outputs": [
    {
     "name": "stdout",
     "output_type": "stream",
     "text": [
      "['People on beach', 'Wave', 'Beach', 'Water', 'Vacation', 'Wind wave', 'Sea', 'Fun', 'Ocean', 'Shore']\n"
     ]
    }
   ],
   "source": [
    "rt = []\n",
    "for label in labels:\n",
    "    rt.append(label.description)\n",
    "print(rt)"
   ]
  },
  {
   "cell_type": "code",
   "execution_count": 18,
   "metadata": {},
   "outputs": [
    {
     "name": "stdout",
     "output_type": "stream",
     "text": [
      "['Cat', 'Mammal', 'Vertebrate', 'Small to medium-sized cats', 'Whiskers', 'Felidae', 'Tabby cat', 'Carnivore', 'European shorthair', 'Dragon li']\n"
     ]
    }
   ],
   "source": [
    "rt = []\n",
    "for label in labels:\n",
    "    rt.append(label.description)\n",
    "print(rt)"
   ]
  },
  {
   "cell_type": "code",
   "execution_count": 14,
   "metadata": {},
   "outputs": [
    {
     "name": "stdout",
     "output_type": "stream",
     "text": [
      "['Dog', 'Siberian husky', 'Mammal', 'Vertebrate', 'Canidae', 'Dog breed', 'Miniature siberian husky', 'Sakhalin husky', 'Carnivore', 'Alaskan malamute']\n"
     ]
    }
   ],
   "source": [
    "rt = []\n",
    "for label in labels:\n",
    "    rt.append(label.description)\n",
    "print(rt)"
   ]
  },
  {
   "cell_type": "code",
   "execution_count": 16,
   "metadata": {},
   "outputs": [
    {
     "name": "stdout",
     "output_type": "stream",
     "text": [
      "['Dog', 'Mammal', 'Vertebrate', 'Canidae', 'Shiba inu', 'Dog breed', 'Akita inu', 'Carnivore', 'Akita', 'Icelandic sheepdog']\n"
     ]
    }
   ],
   "source": [
    "rt = []\n",
    "for label in labels:\n",
    "    rt.append(label.description)\n",
    "print(rt)"
   ]
  },
  {
   "cell_type": "code",
   "execution_count": 10,
   "metadata": {},
   "outputs": [
    {
     "name": "stdout",
     "output_type": "stream",
     "text": [
      "['Beach', 'Wave', 'Body of water', 'Shore', 'Coast', 'Ocean', 'Sea', 'Wind wave', 'Natural environment', 'Horizon']\n"
     ]
    }
   ],
   "source": [
    "rt = []\n",
    "for label in labels:\n",
    "    rt.append(label.description)\n",
    "print(rt)"
   ]
  }
 ],
 "metadata": {
  "kernelspec": {
   "display_name": "Python 3",
   "language": "python",
   "name": "python3"
  },
  "language_info": {
   "codemirror_mode": {
    "name": "ipython",
    "version": 3
   },
   "file_extension": ".py",
   "mimetype": "text/x-python",
   "name": "python",
   "nbconvert_exporter": "python",
   "pygments_lexer": "ipython3",
   "version": "3.7.7"
  }
 },
 "nbformat": 4,
 "nbformat_minor": 4
}
