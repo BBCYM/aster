{
 "cells": [
  {
   "cell_type": "markdown",
   "metadata": {},
   "source": [
    "https://webcolors.readthedocs.io/en/1.11.1/contents.html#webcolors.CSS3  \n",
    "https://matplotlib.org/3.1.0/gallery/color/named_colors.html  \n",
    "https://stackoverflow.com/questions/9694165/convert-rgb-color-to-english-color-name-like-green-with-python  \n",
    "https://coolors.co/baad9e-d9d1c8-aa917b-634930-8c6e57\n",
    "https://pillow.readthedocs.io/en/stable/reference/Image.html  "
   ]
  },
  {
   "cell_type": "code",
   "execution_count": 2,
   "metadata": {},
   "outputs": [
    {
     "name": "stdout",
     "output_type": "stream",
     "text": [
      "Collecting webcolors\n",
      "  Downloading webcolors-1.11.1-py3-none-any.whl (9.9 kB)\n",
      "Installing collected packages: webcolors\n",
      "Successfully installed webcolors-1.11.1\n"
     ]
    }
   ],
   "source": [
    "!pip install webcolors"
   ]
  },
  {
   "cell_type": "code",
   "execution_count": 1,
   "metadata": {},
   "outputs": [],
   "source": [
    "import webcolors\n",
    "import matplotlib.colors as mc"
   ]
  },
  {
   "cell_type": "code",
   "execution_count": 2,
   "metadata": {},
   "outputs": [],
   "source": [
    "from googletrans import Translator\n",
    "translator = Translator()"
   ]
  },
  {
   "cell_type": "code",
   "execution_count": 3,
   "metadata": {},
   "outputs": [
    {
     "name": "stdout",
     "output_type": "stream",
     "text": [
      "aliceblue #f0f8ff\n",
      "antiquewhite #faebd7\n",
      "aqua #00ffff\n",
      "aquamarine #7fffd4\n",
      "azure #f0ffff\n",
      "beige #f5f5dc\n",
      "bisque #ffe4c4\n",
      "black #000000\n",
      "blanchedalmond #ffebcd\n",
      "blue #0000ff\n",
      "blueviolet #8a2be2\n",
      "brown #8B4513\n",
      "burlywood #deb887\n",
      "cadetblue #5f9ea0\n",
      "chartreuse #7fff00\n",
      "chocolate #d2691e\n",
      "coral #ff7f50\n",
      "cornflowerblue #6495ed\n",
      "cornsilk #fff8dc\n",
      "crimson #dc143c\n",
      "cyan #00ffff\n",
      "darkblue #00008b\n",
      "darkcyan #008b8b\n",
      "darkgoldenrod #b8860b\n",
      "darkgray #a9a9a9\n",
      "darkgrey #a9a9a9\n",
      "darkgreen #006400\n",
      "darkkhaki #bdb76b\n",
      "darkmagenta #8b008b\n",
      "darkolivegreen #556b2f\n",
      "darkorange #ff8c00\n",
      "darkorchid #9932cc\n",
      "darkred #8b0000\n",
      "darksalmon #e9967a\n",
      "darkseagreen #8fbc8f\n",
      "darkslateblue #483d8b\n",
      "darkslategray #2f4f4f\n",
      "darkslategrey #2f4f4f\n",
      "darkturquoise #00ced1\n",
      "darkviolet #9400d3\n",
      "deeppink #ff1493\n",
      "deepskyblue #00bfff\n",
      "dimgray #696969\n",
      "dimgrey #696969\n",
      "dodgerblue #1e90ff\n",
      "firebrick #b22222\n",
      "floralwhite #fffaf0\n",
      "forestgreen #228b22\n",
      "fuchsia #ff00ff\n",
      "gainsboro #dcdcdc\n",
      "ghostwhite #f8f8ff\n",
      "gold #ffd700\n",
      "goldenrod #daa520\n",
      "gray #808080\n",
      "grey #808080\n",
      "green #008000\n",
      "greenyellow #adff2f\n",
      "honeydew #f0fff0\n",
      "hotpink #ff69b4\n",
      "indianred #cd5c5c\n",
      "indigo #4b0082\n",
      "ivory #fffff0\n",
      "khaki #f0e68c\n",
      "lavender #e6e6fa\n",
      "lavenderblush #fff0f5\n",
      "lawngreen #7cfc00\n",
      "lemonchiffon #fffacd\n",
      "lightblue #add8e6\n",
      "lightcoral #f08080\n",
      "lightcyan #e0ffff\n",
      "lightgoldenrodyellow #fafad2\n",
      "lightgray #d3d3d3\n",
      "lightgrey #d3d3d3\n",
      "lightgreen #90ee90\n",
      "lightpink #ffb6c1\n",
      "lightsalmon #ffa07a\n",
      "lightseagreen #20b2aa\n",
      "lightskyblue #87cefa\n",
      "lightslategray #778899\n",
      "lightslategrey #778899\n",
      "lightsteelblue #b0c4de\n",
      "lightyellow #ffffe0\n",
      "lime #00ff00\n",
      "limegreen #32cd32\n",
      "linen #faf0e6\n",
      "magenta #ff00ff\n",
      "maroon #800000\n",
      "mediumaquamarine #66cdaa\n",
      "mediumblue #0000cd\n",
      "mediumorchid #ba55d3\n",
      "mediumpurple #9370db\n",
      "mediumseagreen #3cb371\n",
      "mediumslateblue #7b68ee\n",
      "mediumspringgreen #00fa9a\n",
      "mediumturquoise #48d1cc\n",
      "mediumvioletred #c71585\n",
      "midnightblue #191970\n",
      "mintcream #f5fffa\n",
      "mistyrose #ffe4e1\n",
      "moccasin #ffe4b5\n",
      "navajowhite #ffdead\n",
      "navy #000080\n",
      "oldlace #fdf5e6\n",
      "olive #808000\n",
      "olivedrab #6b8e23\n",
      "orange #ffa500\n",
      "orangered #ff4500\n",
      "orchid #da70d6\n",
      "palegoldenrod #eee8aa\n",
      "palegreen #98fb98\n",
      "paleturquoise #afeeee\n",
      "palevioletred #db7093\n",
      "papayawhip #ffefd5\n",
      "peachpuff #ffdab9\n",
      "peru #cd853f\n",
      "pink #ffc0cb\n",
      "plum #dda0dd\n",
      "powderblue #b0e0e6\n",
      "purple #800080\n",
      "red #ff0000\n",
      "rosybrown #bc8f8f\n",
      "royalblue #4169e1\n",
      "saddlebrown #8b4513\n",
      "salmon #fa8072\n",
      "sandybrown #f4a460\n",
      "seagreen #2e8b57\n",
      "seashell #fff5ee\n",
      "sienna #a0522d\n",
      "silver #c0c0c0\n",
      "skyblue #87ceeb\n",
      "slateblue #6a5acd\n",
      "slategray #708090\n",
      "slategrey #708090\n",
      "snow #fffafa\n",
      "springgreen #00ff7f\n",
      "steelblue #4682b4\n",
      "tan #d2b48c\n",
      "teal #008080\n",
      "thistle #d8bfd8\n",
      "tomato #ff6347\n",
      "turquoise #40e0d0\n",
      "violet #ee82ee\n",
      "wheat #f5deb3\n",
      "white #ffffff\n",
      "whitesmoke #f5f5f5\n",
      "yellow #ffff00\n",
      "yellowgreen #9acd32\n",
      "darkbrown #654321\n",
      "caramel #65350F\n",
      "coffee #6F4137\n",
      "darkcoffee #3B2F2F\n"
     ]
    }
   ],
   "source": [
    "CSS3 = webcolors.CSS3_NAMES_TO_HEX\n",
    "CSS3_r = {}\n",
    "type(CSS3)\n",
    "CSS3['brown'] = '#8B4513'\n",
    "CSS3['darkbrown'] = '#654321'\n",
    "CSS3['caramel'] = '#65350F'\n",
    "CSS3['coffee'] = '#6F4137'\n",
    "CSS3['darkcoffee'] = '#3B2F2F'\n",
    "for k, v in CSS3.items():\n",
    "    CSS3_r[v] = k\n",
    "    print(k,v)"
   ]
  },
  {
   "cell_type": "code",
   "execution_count": 311,
   "metadata": {},
   "outputs": [],
   "source": [
    "def closest_color(requested_color):\n",
    "#     print(f'start closeset_color, requested_color_hex={requested_color}')\n",
    "    min_colors = {}\n",
    "    try:\n",
    "        rgb = webcolors.hex_to_rgb(requested_color)\n",
    "#         for key, value in webcolors.CSS3_NAMES_TO_HEX.items():\n",
    "        for key, value in CSS3.items():\n",
    "#             r_c, g_c, b_c = webcolors.name_to_rgb(key)\n",
    "#             print(key, value)\n",
    "            r_c, g_c, b_c = webcolors.hex_to_rgb(value)\n",
    "            rd = (r_c - rgb[0]) ** 2\n",
    "            gd = (g_c - rgb[1]) ** 2\n",
    "            bd = (b_c - rgb[2]) ** 2\n",
    "            min_colors[(rd + gd + bd)] = value\n",
    "#             print(key, value, (rd + gd + bd), min_colors[(rd + gd + bd)])\n",
    "#         print(f'return: {min_colors[min(min_colors.keys())]}')\n",
    "#         print(f'return  name = {webcolors.CSS3_HEX_TO_NAMES[min_colors[min(min_colors.keys())]]}')\n",
    "#         name = webcolors.CSS3_HEX_TO_NAMES[min_colors[min(min_colors.keys())]]\n",
    "#         print('finish for loop')\n",
    "        nearest_color = min_colors[min(min_colors.keys())]\n",
    "        name = CSS3_r[nearest_color]\n",
    "        return name\n",
    "    except Exception as e:\n",
    "        print(f'error: closeset color : {e}')\n",
    "        \n",
    "def get_color_name(requested_color, method:str = 'hex'):\n",
    "    print(requested_color[0])\n",
    "#     print(f'start get_color_name: requested_color = {requested_color}')\n",
    "    try:\n",
    "        \n",
    "        if method == 'hex' and str(requested_color[0]) == '#':\n",
    "#             print(f'color is hex: {requested_color}')\n",
    "            \n",
    "            closest_name = actual_name = CSS3_r[requested_color]\n",
    "            \n",
    "#             print(f'finish transfer: {r, g, b}')\n",
    "        else:\n",
    "            closest_name = actual_name = webcolors.rgb_to_name(requested_color)\n",
    "    except ValueError:\n",
    "#         print('error, ValueError: color not exist')\n",
    "        closest_name = closest_color(requested_color)\n",
    "#         print(f'closest_name: {closest_name}')\n",
    "        actual_name = None\n",
    "    except Exception as e:\n",
    "#         print(f'error: get_color_name: {e}')\n",
    "        closest_name = closest_color(requested_color)\n",
    "#         print(f'closest_name: {closest_name}')\n",
    "        actual_name = None\n",
    "        \n",
    "    return actual_name, closest_name"
   ]
  },
  {
   "cell_type": "code",
   "execution_count": 319,
   "metadata": {},
   "outputs": [
    {
     "name": "stdout",
     "output_type": "stream",
     "text": [
      "#\n",
      "Actual colour name: None , closest colour name: 午夜藍\n",
      "#\n",
      "Actual colour name: None , closest colour name: 午夜藍\n",
      "#\n",
      "Actual colour name: None , closest colour name: 深棕色\n",
      "#\n",
      "Actual colour name: None , closest colour name: 白色\n",
      "#\n",
      "Actual colour name: None , closest colour name: 淺灰色\n"
     ]
    }
   ],
   "source": [
    "# color_list = ['#baad9e','#d9d1c8','#aa917b','#634930','#8c6e57']\n",
    "color_list = ['#aa917b','#d9d1c8','#8b6d56','#bbad9e','#63492f']\n",
    "color_list = ['#0a368a','#0a2a6a','#543229','#fdfdfd','#697aa6']\n",
    "# color_list = ['#634931']\n",
    "for i in color_list:\n",
    "    try:\n",
    "        actual_name, closest_name = get_color_name(i)\n",
    "        color_name_ch = translator.translate(closest_name, dest=\"zh-tw\").text\n",
    "        print (\"Actual colour name:\", actual_name, \", closest colour name:\", color_name_ch)\n",
    "    except Exception as e:\n",
    "        print(e)\n",
    "        continue"
   ]
  },
  {
   "cell_type": "code",
   "execution_count": 88,
   "metadata": {},
   "outputs": [
    {
     "data": {
      "text/plain": [
       "IntegerRGB(red=240, green=248, blue=255)"
      ]
     },
     "execution_count": 88,
     "metadata": {},
     "output_type": "execute_result"
    }
   ],
   "source": [
    "webcolors.name_to_rgb('aliceblue')"
   ]
  },
  {
   "cell_type": "code",
   "execution_count": 198,
   "metadata": {},
   "outputs": [],
   "source": [
    "mycss4list = mc.CSS4_COLORS\n"
   ]
  },
  {
   "cell_type": "code",
   "execution_count": null,
   "metadata": {},
   "outputs": [],
   "source": []
  },
  {
   "cell_type": "code",
   "execution_count": null,
   "metadata": {},
   "outputs": [],
   "source": []
  },
  {
   "cell_type": "code",
   "execution_count": null,
   "metadata": {},
   "outputs": [],
   "source": []
  },
  {
   "cell_type": "code",
   "execution_count": null,
   "metadata": {},
   "outputs": [],
   "source": []
  },
  {
   "cell_type": "code",
   "execution_count": 5,
   "metadata": {},
   "outputs": [
    {
     "name": "stdout",
     "output_type": "stream",
     "text": [
      "\"愛麗絲藍色\"\"愛麗絲藍\",\"愛麗絲藍\",\"aliceblue\",\"#f0f8ff\"\n",
      "\"古董白色\"\"古董白\",\"古董白\",\"antiquewhite\",\"#faebd7\"\n",
      "\"水色\",\"水色\",\"aqua\",\"#00ffff\"\n",
      "\"藍晶色\"\"藍晶\",\"藍晶\",\"aquamarine\",\"#7fffd4\"\n",
      "\"天藍色\",\"天藍色\",\"azure\",\"#f0ffff\",天藍\n",
      "\"米色\",\"米色\",\"beige\",\"#f5f5dc\"\n",
      "\"濃湯色\"\"濃湯\",\"濃湯\",\"bisque\",\"#ffe4c4\"\n"
     ]
    },
    {
     "ename": "KeyboardInterrupt",
     "evalue": "",
     "output_type": "error",
     "traceback": [
      "\u001b[1;31m---------------------------------------------------------------------------\u001b[0m",
      "\u001b[1;31mKeyboardInterrupt\u001b[0m                         Traceback (most recent call last)",
      "\u001b[1;32m<ipython-input-5-d74055823f05>\u001b[0m in \u001b[0;36m<module>\u001b[1;34m\u001b[0m\n\u001b[0;32m      4\u001b[0m \u001b[1;31m# for k,v in islice(CSS3.items(), 0, 4):\u001b[0m\u001b[1;33m\u001b[0m\u001b[1;33m\u001b[0m\u001b[1;33m\u001b[0m\u001b[0m\n\u001b[0;32m      5\u001b[0m \u001b[1;33m\u001b[0m\u001b[0m\n\u001b[1;32m----> 6\u001b[1;33m     \u001b[0msleep\u001b[0m\u001b[1;33m(\u001b[0m\u001b[1;36m1\u001b[0m\u001b[1;33m)\u001b[0m\u001b[1;33m\u001b[0m\u001b[1;33m\u001b[0m\u001b[0m\n\u001b[0m\u001b[0;32m      7\u001b[0m     \u001b[0mch\u001b[0m \u001b[1;33m=\u001b[0m \u001b[0mtranslator\u001b[0m\u001b[1;33m.\u001b[0m\u001b[0mtranslate\u001b[0m\u001b[1;33m(\u001b[0m\u001b[0mk\u001b[0m\u001b[1;33m,\u001b[0m \u001b[0mdest\u001b[0m\u001b[1;33m=\u001b[0m\u001b[1;34m\"zh-tw\"\u001b[0m\u001b[1;33m)\u001b[0m\u001b[1;33m.\u001b[0m\u001b[0mtext\u001b[0m\u001b[1;33m\u001b[0m\u001b[1;33m\u001b[0m\u001b[0m\n\u001b[0;32m      8\u001b[0m \u001b[1;33m\u001b[0m\u001b[0m\n",
      "\u001b[1;31mKeyboardInterrupt\u001b[0m: "
     ]
    }
   ],
   "source": [
    "from time import sleep\n",
    "from itertools import islice\n",
    "for k, v in CSS3.items():\n",
    "# for k,v in islice(CSS3.items(), 0, 4):\n",
    "\n",
    "    sleep(1)\n",
    "    ch = translator.translate(k, dest=\"zh-tw\").text\n",
    "    \n",
    "    k = '\"'+k+'\"'\n",
    "    v = '\"'+v+'\"'\n",
    "    \n",
    "    if ch[-1] != '色': #名字沒有\"色\"\n",
    "        new_name = ch+'色'\n",
    "        new_name = '\"'+new_name+'\"'\n",
    "        print(new_name,sep=\",\", end=\",\")\n",
    "        \n",
    "        ch = '\"'+ch+'\"'\n",
    "        print(ch,ch,k,v, sep=\",\", end=\"\")\n",
    "        \n",
    "    elif len(ch) <= 2: #藍色 紅色 米色 不能刪掉色\n",
    "        ch = '\"'+ch+'\"'\n",
    "        print(ch,ch,k,v, sep=\",\", end=\"\")\n",
    "    else:         \n",
    "        new_name = ch[:-1]\n",
    "        ch = '\"'+ch+'\"'\n",
    "        print(ch,ch,k,v,new_name, sep=\",\", end=\"\")\n",
    "        \n",
    "    print()"
   ]
  },
  {
   "cell_type": "code",
   "execution_count": null,
   "metadata": {},
   "outputs": [],
   "source": []
  }
 ],
 "metadata": {
  "kernelspec": {
   "display_name": "Python 3",
   "language": "python",
   "name": "python3"
  },
  "language_info": {
   "codemirror_mode": {
    "name": "ipython",
    "version": 3
   },
   "file_extension": ".py",
   "mimetype": "text/x-python",
   "name": "python",
   "nbconvert_exporter": "python",
   "pygments_lexer": "ipython3",
   "version": "3.7.1"
  }
 },
 "nbformat": 4,
 "nbformat_minor": 4
}
