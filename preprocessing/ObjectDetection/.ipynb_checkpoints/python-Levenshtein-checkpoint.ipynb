{
 "cells": [
  {
   "cell_type": "code",
   "execution_count": 1,
   "metadata": {},
   "outputs": [
    {
     "name": "stdout",
     "output_type": "stream",
     "text": [
      "Collecting python-Levenshtein\n",
      "  Downloading python-Levenshtein-0.12.0.tar.gz (48 kB)\n",
      "Requirement already satisfied: setuptools in c:\\users\\user\\anaconda3\\lib\\site-packages (from python-Levenshtein) (45.2.0.post20200210)\n",
      "Building wheels for collected packages: python-Levenshtein\n",
      "  Building wheel for python-Levenshtein (setup.py): started\n",
      "  Building wheel for python-Levenshtein (setup.py): finished with status 'done'\n",
      "  Created wheel for python-Levenshtein: filename=python_Levenshtein-0.12.0-cp37-cp37m-win_amd64.whl size=81738 sha256=9d921477adde43671900ab02c1ad538b1d178c9e45c76eab35b36b5cbf9d8ebc\n",
      "  Stored in directory: c:\\users\\user\\appdata\\local\\pip\\cache\\wheels\\f0\\9b\\13\\49c281164c37be18343230d3cd0fca29efb23a493351db0009\n",
      "Successfully built python-Levenshtein\n",
      "Installing collected packages: python-Levenshtein\n",
      "Successfully installed python-Levenshtein-0.12.0\n"
     ]
    }
   ],
   "source": [
    "!pip install python-Levenshtein"
   ]
  },
  {
   "cell_type": "code",
   "execution_count": 1,
   "metadata": {},
   "outputs": [],
   "source": [
    "import Levenshtein as le"
   ]
  },
  {
   "cell_type": "code",
   "execution_count": 4,
   "metadata": {},
   "outputs": [
    {
     "data": {
      "text/plain": [
       "1"
      ]
     },
     "execution_count": 4,
     "metadata": {},
     "output_type": "execute_result"
    }
   ],
   "source": [
    "le.distance('呂文楷', '呂文琦')"
   ]
  },
  {
   "cell_type": "code",
   "execution_count": 5,
   "metadata": {},
   "outputs": [
    {
     "data": {
      "text/plain": [
       "4"
      ]
     },
     "execution_count": 5,
     "metadata": {},
     "output_type": "execute_result"
    }
   ],
   "source": [
    "le.distance('呂文楷', '人工智慧')"
   ]
  },
  {
   "cell_type": "code",
   "execution_count": 8,
   "metadata": {},
   "outputs": [
    {
     "data": {
      "text/plain": [
       "1"
      ]
     },
     "execution_count": 8,
     "metadata": {},
     "output_type": "execute_result"
    }
   ],
   "source": [
    "le.distance('水壺', '水瓶')"
   ]
  },
  {
   "cell_type": "code",
   "execution_count": 9,
   "metadata": {},
   "outputs": [
    {
     "data": {
      "text/plain": [
       "3"
      ]
     },
     "execution_count": 9,
     "metadata": {},
     "output_type": "execute_result"
    }
   ],
   "source": [
    "le.distance('水壺', '保齡球')"
   ]
  },
  {
   "cell_type": "code",
   "execution_count": null,
   "metadata": {},
   "outputs": [],
   "source": [
    "!conda install -c anaconda nltk"
   ]
  },
  {
   "cell_type": "code",
   "execution_count": 3,
   "metadata": {},
   "outputs": [
    {
     "name": "stderr",
     "output_type": "stream",
     "text": [
      "[nltk_data] Downloading package stopwords to\n",
      "[nltk_data]     C:\\Users\\USER\\AppData\\Roaming\\nltk_data...\n",
      "[nltk_data]   Unzipping corpora\\stopwords.zip.\n"
     ]
    },
    {
     "data": {
      "text/plain": [
       "True"
      ]
     },
     "execution_count": 3,
     "metadata": {},
     "output_type": "execute_result"
    }
   ],
   "source": [
    "import nltk\n",
    "nltk.download('stopwords')"
   ]
  },
  {
   "cell_type": "code",
   "execution_count": 23,
   "metadata": {},
   "outputs": [],
   "source": [
    "import string\n",
    "from sklearn.metrics.pairwise import cosine_similarity\n",
    "from sklearn.feature_extraction.text import CountVectorizer\n",
    "from nltk.corpus import stopwords\n"
   ]
  },
  {
   "cell_type": "code",
   "execution_count": 63,
   "metadata": {},
   "outputs": [],
   "source": [
    "#柴犬\n",
    "dog1 = ['Dog', 'Mammal', 'Vertebrate', 'Canidae', 'Dog breed', 'Carnivore', 'Akita', 'Akita inu', 'Shiba inu', 'Canaan dog']\n",
    "#柴犬\n",
    "dog2 = ['Dog', 'Mammal', 'Vertebrate', 'Canidae', 'Shiba inu', 'Dog breed', 'Akita inu', 'Carnivore', 'Akita', 'Icelandic sheepdog']\n",
    "#哈士奇\n",
    "dog3 = ['Dog', 'Siberian husky', 'Mammal', 'Vertebrate', 'Canidae', 'Dog breed', 'Miniature siberian husky', 'Sakhalin husky', 'Carnivore', 'Alaskan malamute']\n",
    "#貓\n",
    "cat1 = ['Cat', 'Mammal', 'Vertebrate', 'Small to medium-sized cats', 'Whiskers', 'Felidae', 'Tabby cat', 'Carnivore', 'European shorthair', 'Dragon li']\n",
    "#海洋\n",
    "ocean1 = ['Beach', 'Wave', 'Body of water', 'Shore', 'Coast', 'Ocean', 'Sea', 'Wind wave', 'Natural environment', 'Horizon']\n",
    "#海洋\n",
    "ocean2 = ['People on beach', 'Wave', 'Beach', 'Water', 'Vacation', 'Wind wave', 'Sea', 'Fun', 'Ocean', 'Shore']\n",
    "arr = [dog1, dog2, dog3, cat1, ocean1, ocean2]"
   ]
  },
  {
   "cell_type": "code",
   "execution_count": 64,
   "metadata": {},
   "outputs": [
    {
     "data": {
      "text/plain": [
       "['dog mammal vertebrate canidae dog breed carnivore akita akita inu shiba inu canaan dog ',\n",
       " 'dog mammal vertebrate canidae shiba inu dog breed akita inu carnivore akita icelandic sheepdog ',\n",
       " 'dog siberian husky mammal vertebrate canidae dog breed miniature siberian husky sakhalin husky carnivore alaskan malamute ',\n",
       " 'cat mammal vertebrate small to medium-sized cats whiskers felidae tabby cat carnivore european shorthair dragon li ',\n",
       " 'beach wave body of water shore coast ocean sea wind wave natural environment horizon ',\n",
       " 'people on beach wave beach water vacation wind wave sea fun ocean shore ']"
      ]
     },
     "execution_count": 64,
     "metadata": {},
     "output_type": "execute_result"
    }
   ],
   "source": [
    "def clean_string(text_array):\n",
    "    text = ''.join([word+' ' for word in text_array])\n",
    "    text = text.lower()\n",
    "    return text\n",
    "\n",
    "cleaned = list(map(clean_string, arr))\n",
    "cleaned"
   ]
  },
  {
   "cell_type": "code",
   "execution_count": 65,
   "metadata": {},
   "outputs": [
    {
     "name": "stdout",
     "output_type": "stream",
     "text": [
      "['akita', 'alaskan', 'beach', 'body', 'breed', 'canaan', 'canidae', 'carnivore', 'cat', 'cats', 'coast', 'dog', 'dragon', 'environment', 'european', 'felidae', 'fun', 'horizon', 'husky', 'icelandic', 'inu', 'li', 'malamute', 'mammal', 'medium', 'miniature', 'natural', 'ocean', 'of', 'on', 'people', 'sakhalin', 'sea', 'sheepdog', 'shiba', 'shore', 'shorthair', 'siberian', 'sized', 'small', 'tabby', 'to', 'vacation', 'vertebrate', 'water', 'wave', 'whiskers', 'wind']\n",
      "[[2 0 0 0 1 1 1 1 0 0 0 3 0 0 0 0 0 0 0 0 2 0 0 1 0 0 0 0 0 0 0 0 0 0 1 0\n",
      "  0 0 0 0 0 0 0 1 0 0 0 0]\n",
      " [2 0 0 0 1 0 1 1 0 0 0 2 0 0 0 0 0 0 0 1 2 0 0 1 0 0 0 0 0 0 0 0 0 1 1 0\n",
      "  0 0 0 0 0 0 0 1 0 0 0 0]\n",
      " [0 1 0 0 1 0 1 1 0 0 0 2 0 0 0 0 0 0 3 0 0 0 1 1 0 1 0 0 0 0 0 1 0 0 0 0\n",
      "  0 2 0 0 0 0 0 1 0 0 0 0]\n",
      " [0 0 0 0 0 0 0 1 2 1 0 0 1 0 1 1 0 0 0 0 0 1 0 1 1 0 0 0 0 0 0 0 0 0 0 0\n",
      "  1 0 1 1 1 1 0 1 0 0 1 0]\n",
      " [0 0 1 1 0 0 0 0 0 0 1 0 0 1 0 0 0 1 0 0 0 0 0 0 0 0 1 1 1 0 0 0 1 0 0 1\n",
      "  0 0 0 0 0 0 0 0 1 2 0 1]\n",
      " [0 0 2 0 0 0 0 0 0 0 0 0 0 0 0 0 1 0 0 0 0 0 0 0 0 0 0 1 0 1 1 0 1 0 0 1\n",
      "  0 0 0 0 0 0 1 0 1 2 0 1]]\n"
     ]
    }
   ],
   "source": [
    "vectorizer = CountVectorizer()\n",
    "transform = vectorizer.fit_transform(cleaned)\n",
    "print(vectorizer.get_feature_names())\n",
    "vectors = transform.toarray()\n",
    "print(vectors)"
   ]
  },
  {
   "cell_type": "code",
   "execution_count": 66,
   "metadata": {
    "scrolled": true
   },
   "outputs": [
    {
     "name": "stdout",
     "output_type": "stream",
     "text": [
      "[[2 0 0 0 1 1 1 1 0 0 0 3 0 0 0 0 0 0 0 0 2 0 0 1 0 0 0 0 0 0 0 0 0 0 1 0\n",
      "  0 0 0 0 0 0 0 1 0 0 0 0]\n",
      " [2 0 0 0 1 0 1 1 0 0 0 2 0 0 0 0 0 0 0 1 2 0 0 1 0 0 0 0 0 0 0 0 0 1 1 0\n",
      "  0 0 0 0 0 0 0 1 0 0 0 0]\n",
      " [0 1 0 0 1 0 1 1 0 0 0 2 0 0 0 0 0 0 3 0 0 0 1 1 0 1 0 0 0 0 0 1 0 0 0 0\n",
      "  0 2 0 0 0 0 0 1 0 0 0 0]\n",
      " [0 0 0 0 0 0 0 1 2 1 0 0 1 0 1 1 0 0 0 0 0 1 0 1 1 0 0 0 0 0 0 0 0 0 0 0\n",
      "  1 0 1 1 1 1 0 1 0 0 1 0]\n",
      " [0 0 1 1 0 0 0 0 0 0 1 0 0 1 0 0 0 1 0 0 0 0 0 0 0 0 1 1 1 0 0 0 1 0 0 1\n",
      "  0 0 0 0 0 0 0 0 1 2 0 1]\n",
      " [0 0 2 0 0 0 0 0 0 0 0 0 0 0 0 0 1 0 0 0 0 0 0 0 0 0 0 1 0 1 1 0 1 0 0 1\n",
      "  0 0 0 0 0 0 1 0 1 2 0 1]]\n"
     ]
    }
   ],
   "source": [
    "vectorizer = CountVectorizer().fit_transform(cleaned)\n",
    "vectors = vectorizer.toarray()\n",
    "print(vectors)"
   ]
  },
  {
   "cell_type": "code",
   "execution_count": 67,
   "metadata": {},
   "outputs": [
    {
     "data": {
      "text/plain": [
       "array([[1.        , 0.91287093, 0.44035242, 0.14048787, 0.        ,\n",
       "        0.        ],\n",
       "       [0.91287093, 1.        , 0.39467611, 0.15389675, 0.        ,\n",
       "        0.        ],\n",
       "       [0.44035242, 0.39467611, 1.        , 0.13497638, 0.        ,\n",
       "        0.        ],\n",
       "       [0.14048787, 0.15389675, 0.13497638, 1.        , 0.        ,\n",
       "        0.        ],\n",
       "       [0.        , 0.        , 0.        , 0.        , 1.        ,\n",
       "        0.66697297],\n",
       "       [0.        , 0.        , 0.        , 0.        , 0.66697297,\n",
       "        1.        ]])"
      ]
     },
     "execution_count": 67,
     "metadata": {},
     "output_type": "execute_result"
    }
   ],
   "source": [
    "csim = cosine_similarity(vectors)\n",
    "csim"
   ]
  },
  {
   "cell_type": "code",
   "execution_count": 68,
   "metadata": {},
   "outputs": [],
   "source": [
    "def calculate_similarity(vec1, vec2):\n",
    "    vec1 = vec1.reshape(1, -1)\n",
    "    vec2 = vec2.reshape(1, -1)\n",
    "    \n",
    "    return cosine_similarity(vec1, vec2)[0][0]"
   ]
  },
  {
   "cell_type": "code",
   "execution_count": 73,
   "metadata": {},
   "outputs": [
    {
     "name": "stdout",
     "output_type": "stream",
     "text": [
      "#dog1 dog1:  1.0000000000000002\n",
      "#dog1 dog2:  0.9128709291752769\n",
      "#dog1 dog3:  0.4403524229639897\n",
      " \n",
      "#dog2 dog3:  0.39467610868816316\n",
      " \n",
      "#dog1 cat:  0.1404878717372541\n",
      "#dog2 cat:  0.1538967528127731\n",
      "#dog3 cat:  0.13497638119975425\n",
      " \n",
      "#dog1 ocean1:  0.0\n",
      "#dog2 ocean1:  0.0\n",
      "#dog3 ocean1:  0.0\n",
      "#cat ocean1:  0.0\n",
      " \n",
      "#dog1 ocean2:  0.0\n",
      "#dog2 ocean2:  0.0\n",
      "#dog3 ocean2:  0.0\n",
      "#cat ocean2:  0.0\n",
      " \n",
      "#ocean1 ocean2:  0.6669729688499157\n"
     ]
    }
   ],
   "source": [
    "print('#dog1 dog1: ', calculate_similarity(vectors[0], vectors[0])) \n",
    "print('#dog1 dog2: ', calculate_similarity(vectors[0], vectors[1])) \n",
    "print('#dog1 dog3: ', calculate_similarity(vectors[0], vectors[2])) \n",
    "print(' ')\n",
    "print('#dog2 dog3: ', calculate_similarity(vectors[1], vectors[2])) \n",
    "print(' ')\n",
    "print('#dog1 cat: ', calculate_similarity(vectors[0], vectors[3])) \n",
    "print('#dog2 cat: ', calculate_similarity(vectors[1], vectors[3])) \n",
    "print('#dog3 cat: ', calculate_similarity(vectors[2], vectors[3])) \n",
    "print(' ')\n",
    "print('#ocean1 ocean2: ', calculate_similarity(vectors[4], vectors[5])) \n",
    "print(' ')\n",
    "print('#dog1 ocean1: ', calculate_similarity(vectors[0], vectors[4])) \n",
    "print('#dog2 ocean1: ', calculate_similarity(vectors[1], vectors[4])) \n",
    "print('#dog3 ocean1: ', calculate_similarity(vectors[2], vectors[4])) \n",
    "print('#cat ocean1: ', calculate_similarity(vectors[3], vectors[4])) \n",
    "print(' ')\n",
    "print('#dog1 ocean2: ', calculate_similarity(vectors[0], vectors[5])) \n",
    "print('#dog2 ocean2: ', calculate_similarity(vectors[1], vectors[5])) \n",
    "print('#dog3 ocean2: ', calculate_similarity(vectors[2], vectors[5])) \n",
    "print('#cat ocean2: ', calculate_similarity(vectors[3], vectors[5])) \n",
    "\n",
    "\n"
   ]
  },
  {
   "cell_type": "code",
   "execution_count": null,
   "metadata": {},
   "outputs": [],
   "source": []
  }
 ],
 "metadata": {
  "kernelspec": {
   "display_name": "Python 3",
   "language": "python",
   "name": "python3"
  },
  "language_info": {
   "codemirror_mode": {
    "name": "ipython",
    "version": 3
   },
   "file_extension": ".py",
   "mimetype": "text/x-python",
   "name": "python",
   "nbconvert_exporter": "python",
   "pygments_lexer": "ipython3",
   "version": "3.7.1"
  }
 },
 "nbformat": 4,
 "nbformat_minor": 4
}
