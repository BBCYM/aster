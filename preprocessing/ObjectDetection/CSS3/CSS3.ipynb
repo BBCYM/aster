{
 "cells": [
  {
   "cell_type": "code",
   "execution_count": 1,
   "metadata": {},
   "outputs": [],
   "source": [
    "CSS3 = {\n",
    "    '紅色': ['赤紅色', '深洋紅色', '深紅色', '品紅色', '迷霧玫瑰色', '橙紅色', '赭色', '番茄色', '黑鮭色', '耐火磚色', '印第安人色', '輕珊瑚色', 'Lightsalmon色', '栗色', '紅褐色', '三文魚色'],\n",
    "    '橘色': ['橙子色', '深橙色', '珊瑚色', 'burlywood色', '莫卡辛色', '納瓦霍懷特色', '小麥色'],\n",
    "    '黃色': ['淺黃色', '淺金黃色', '黃褐色', '金色', '金毛色', '淡金黃色的色', '檸檬雪紡色', '暗金桿色', '米色', '玉米絲色', '達基色', '象牙色', '橄欖色'],\n",
    "    '綠色': ['淡綠色', '淺綠色', '海綠色', '春綠色', '綠松石色', '黃綠色', '薄荷色', '中春綠色', '中海綠色', '檸檬綠色', '淺海綠色', '草坪綠色', '森林綠色', '深海綠色', '深橄欖綠色', '深綠色', '甘露色', '海藍寶石色', 'Olivedrab色'],\n",
    "    '藍色': ['愛麗絲藍色', '藍晶色', '水色', '天藍色', 'cadetblue色', '矢車菊藍色', '青色', '深藍色', '塔卡卡揚色', '道奇藍色', '薰衣草色', '淺藍色', '光一體化色', '中藍色', '午夜藍色', '海軍色', '粉藍色', '寶藍色', 'slateblue色', '滑脫色', '板岩灰色', '鋼藍色'],\n",
    "    '紫色': ['紫羅蘭色', '蘭花色', '暗紫色', '紫紅色', '靛青色', '蘭花色', '中紫色', '泛紫色', '李子色', '薊色'],\n",
    "    '咖啡色': ['棕色', '巧克力色', '秘魯色', '馬鞍棕色', '沙棕色', '談色', '深棕色', '焦糖色', '黑咖啡色'],\n",
    "    '灰色': ['深灰色', '黑暗崩解色', '暗灰色', '定萊色', '丁格里色', '恩斯伯勒色', '幽靈般的白色', '淺灰色', '銀色', '白色的煙色'],\n",
    "    '黑色': ['黑'],\n",
    "    '粉紅色': ['古董白色', '濃湯色', '布蘭查德蒙德色', '花白色', '亮粉色', '薰衣草腮紅色', '淺粉紅色', '麻布色', '老花邊色', '木瓜鞭色', '桃撲色', '貝殼色', '雪色'],\n",
    "    '白色': ['白']\n",
    "}"
   ]
  },
  {
   "cell_type": "code",
   "execution_count": 2,
   "metadata": {},
   "outputs": [
    {
     "name": "stderr",
     "output_type": "stream",
     "text": [
      "* Owlready2 * Warning: optimized Cython parser module 'owlready2_optimized' is not available, defaulting to slower Python implementation\n"
     ]
    }
   ],
   "source": [
    "from owlready2 import *\n",
    "onto_color = get_ontology(\"http://test.org/onto.owl\")"
   ]
  },
  {
   "cell_type": "code",
   "execution_count": 3,
   "metadata": {},
   "outputs": [],
   "source": [
    "with onto_color:\n",
    "    class CommonColor(Thing):\n",
    "        def locate(self): print('I am common color')\n",
    "    \n",
    "    class SpecificColor(Thing):\n",
    "        def locate(self): print('I am object color')\n",
    "            \n",
    "    class com_has_spec(ObjectProperty):\n",
    "        domain = [CommonColor]\n",
    "        range = [SpecificColor]\n",
    "        \n",
    "    class specific_in_common(ObjectProperty):\n",
    "        domain = [SpecificColor]\n",
    "        range = [CommonColor]\n",
    "        inverse_property = com_has_spec\n",
    "    \n",
    "    def get_com_color(color_name):\n",
    "        spe = SpecificColor(color_name)\n",
    "        return spe.specific_in_common[0].name"
   ]
  },
  {
   "cell_type": "code",
   "execution_count": 4,
   "metadata": {},
   "outputs": [
    {
     "name": "stdout",
     "output_type": "stream",
     "text": [
      "[onto.紅色, onto.橘色, onto.黃色, onto.綠色, onto.藍色, onto.紫色, onto.咖啡色, onto.灰色, onto.黑色, onto.粉紅色, onto.白色]\n",
      "{'namespace': get_ontology(\"http://test.org/onto.owl#\"), '_name': '紅色', '_equivalent_to': None, 'storid': 307, 'is_a': [onto.CommonColor]}\n"
     ]
    }
   ],
   "source": [
    "common_color_array = [onto_color.CommonColor(x) for x in CSS3]\n",
    "print(common_color_array)    \n",
    "print(common_color_array[0].__dict__)"
   ]
  },
  {
   "cell_type": "code",
   "execution_count": 5,
   "metadata": {},
   "outputs": [
    {
     "name": "stdout",
     "output_type": "stream",
     "text": [
      "onto.紅色\n",
      "onto.橘色\n",
      "onto.黃色\n",
      "onto.綠色\n",
      "onto.藍色\n",
      "onto.紫色\n",
      "onto.咖啡色\n",
      "onto.灰色\n",
      "onto.黑色\n",
      "onto.粉紅色\n",
      "onto.白色\n"
     ]
    }
   ],
   "source": [
    "for c in common_color_array:\n",
    "    print(c)\n",
    "    for k in CSS3[c.name]:\n",
    "        spe = onto_color.SpecificColor(k)\n",
    "        c.com_has_spec.append(spe)"
   ]
  },
  {
   "cell_type": "code",
   "execution_count": 6,
   "metadata": {},
   "outputs": [
    {
     "data": {
      "text/plain": [
       "{'namespace': get_ontology(\"http://test.org/onto.owl#\"),\n",
       " '_name': '白色',\n",
       " '_equivalent_to': None,\n",
       " 'storid': 317,\n",
       " 'is_a': [onto.CommonColor],\n",
       " 'com_has_spec': [onto.白]}"
      ]
     },
     "execution_count": 6,
     "metadata": {},
     "output_type": "execute_result"
    }
   ],
   "source": [
    "c.__dict__"
   ]
  },
  {
   "cell_type": "code",
   "execution_count": 7,
   "metadata": {},
   "outputs": [
    {
     "data": {
      "text/plain": [
       "'藍色'"
      ]
     },
     "execution_count": 7,
     "metadata": {},
     "output_type": "execute_result"
    }
   ],
   "source": [
    "get_com_color('午夜藍色')"
   ]
  },
  {
   "cell_type": "code",
   "execution_count": 8,
   "metadata": {},
   "outputs": [],
   "source": [
    "onto_color.save(file = \"color_onto.owl\", format = \"rdfxml\")"
   ]
  },
  {
   "cell_type": "code",
   "execution_count": null,
   "metadata": {},
   "outputs": [],
   "source": []
  },
  {
   "cell_type": "code",
   "execution_count": 9,
   "metadata": {},
   "outputs": [],
   "source": [
    "from owlready2 import *\n",
    "onto = get_ontology(\"file://C:/Users/v-wenklu/OneDrive - Microsoft/Desktop/bobo/Project/aster/preprocessing/ObjectDetection/CSS3/color_onto.owl\").load()"
   ]
  },
  {
   "cell_type": "code",
   "execution_count": 10,
   "metadata": {},
   "outputs": [],
   "source": [
    "def get_color(color_name):\n",
    "    try:\n",
    "        spe = onto.SpecificColor(color_name)\n",
    "        com_color = spe.specific_in_common[0].name\n",
    "        return com_color\n",
    "    except Exception as e:\n",
    "        return \"\""
   ]
  },
  {
   "cell_type": "code",
   "execution_count": 14,
   "metadata": {
    "scrolled": true
   },
   "outputs": [
    {
     "name": "stdout",
     "output_type": "stream",
     "text": [
      "\n",
      "藍色\n"
     ]
    }
   ],
   "source": [
    "print((get_color('abc')))\n",
    "print((get_color('深藍色')))"
   ]
  },
  {
   "cell_type": "code",
   "execution_count": 12,
   "metadata": {},
   "outputs": [
    {
     "name": "stdout",
     "output_type": "stream",
     "text": [
      "True\n"
     ]
    }
   ],
   "source": [
    "t = \"\"\n",
    "if t == \"\":\n",
    "    print('True')"
   ]
  }
 ],
 "metadata": {
  "kernelspec": {
   "display_name": "Python 3",
   "language": "python",
   "name": "python3"
  },
  "language_info": {
   "codemirror_mode": {
    "name": "ipython",
    "version": 3
   },
   "file_extension": ".py",
   "mimetype": "text/x-python",
   "name": "python",
   "nbconvert_exporter": "python",
   "pygments_lexer": "ipython3",
   "version": "3.7.7"
  }
 },
 "nbformat": 4,
 "nbformat_minor": 4
}
