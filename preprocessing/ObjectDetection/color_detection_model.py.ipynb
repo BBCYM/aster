{
 "cells": [
  {
   "cell_type": "code",
   "execution_count": 17,
   "metadata": {},
   "outputs": [],
   "source": [
    "# google vision import\n",
    "import os\n",
    "import sys\n",
    "from google.auth.transport.requests import Request, AuthorizedSession\n",
    "from google.cloud.vision import ImageAnnotatorClient, types\n",
    "from google.oauth2 import id_token, credentials, service_account\n",
    "import pandas\n",
    "\n",
    "credent = service_account.Credentials.from_service_account_file(\n",
    "    'anster-1593361678608.json')\n",
    "\n",
    "def localize_objects(path):\n",
    "    \"\"\"Localize objects in the local image.\n",
    "\n",
    "    Args:\n",
    "    path: The path to the local file.\n",
    "    \"\"\"\n",
    "    from google.cloud import vision\n",
    "    client = vision.ImageAnnotatorClient(credentials=credent)\n",
    "\n",
    "    with open(path, 'rb') as image_file:\n",
    "        content = image_file.read()\n",
    "    image = vision.types.Image(content=content)\n",
    "\n",
    "    objects = client.object_localization(\n",
    "        image=image).localized_object_annotations\n",
    "    \n",
    "#     print('Number of objects found: {}'.format(len(objects)))\n",
    "#     for object_ in objects:\n",
    "#         print('\\n{} (confidence: {})'.format(object_.name, object_.score))\n",
    "#         print('Normalized bounding polygon vertices: ')\n",
    "#         for vertex in object_.bounding_poly.normalized_vertices:\n",
    "#             print(' - ({}, {})'.format(vertex.x, vertex.y))\n",
    "            \n",
    "    return objects\n",
    "\n",
    "def location_preprocess(objects):\n",
    "    object_array = [] \n",
    "    obj_count = len(objects) #計算有幾個object\n",
    "    for object_ in objects:\n",
    "        object_dict = {}\n",
    "        \n",
    "        #取得物件和可信度\n",
    "        name = object_.name\n",
    "        score = object_.score\n",
    "        \n",
    "        #取得座標\n",
    "        location = object_.bounding_poly.normalized_vertices\n",
    "        location_array = [location[0].x, location[0].y , location[2].x, location[2].y]\n",
    "        \n",
    "        \n",
    "        #回傳值處理\n",
    "        object_dict['name'] = name\n",
    "        object_dict['score'] = score\n",
    "        object_dict['location'] = location_array\n",
    "        \n",
    "        object_array.append(object_dict)\n",
    "    \n",
    "    return object_array"
   ]
  },
  {
   "cell_type": "code",
   "execution_count": 23,
   "metadata": {},
   "outputs": [
    {
     "name": "stdout",
     "output_type": "stream",
     "text": [
      "[{'name': 'Person', 'score': 0.8949168920516968, 'location': [0.3740502893924713, 0.07796920090913773, 0.5554630160331726, 0.5977292656898499]}, {'name': 'Person', 'score': 0.8839148283004761, 'location': [0.06714311987161636, 0.2734234035015106, 0.14747413992881775, 0.4500562846660614]}, {'name': 'Shorts', 'score': 0.6374115347862244, 'location': [0.38776424527168274, 0.3478175699710846, 0.5563060641288757, 0.48119452595710754]}]\n"
     ]
    }
   ],
   "source": [
    "objects = localize_objects('ocean2.jpg')\n",
    "\n",
    "object_array = location_preprocess(obj)\n",
    "print(object_location_array)"
   ]
  },
  {
   "cell_type": "markdown",
   "metadata": {},
   "source": [
    "### Final Function"
   ]
  },
  {
   "cell_type": "code",
   "execution_count": 33,
   "metadata": {},
   "outputs": [],
   "source": [
    "def color_detection(objects, file_name):\n",
    "    #把物件、可信度、物件位置抓出來\n",
    "    object_array = location_preprocess(objects)\n",
    "    \n",
    "    #針對每個物件增加顏色array\n",
    "    for object_ in object_array: #遍歷照片中的每個物件\n",
    "        hex_code_array = find_dominate_color(file_name, object_['location']) #取得顏色號碼陣列\n",
    "        print(hex_code_array)\n",
    "        \n",
    "    return hex_code_array\n",
    "\n"
   ]
  },
  {
   "cell_type": "code",
   "execution_count": 38,
   "metadata": {},
   "outputs": [
    {
     "name": "stderr",
     "output_type": "stream",
     "text": [
      "C:\\Users\\USER\\Anaconda3\\lib\\site-packages\\ipykernel_launcher.py:32: DeprecationWarning: scipy.product is deprecated and will be removed in SciPy 2.0.0, use numpy.product instead\n",
      "C:\\Users\\USER\\Anaconda3\\lib\\site-packages\\ipykernel_launcher.py:41: DeprecationWarning: scipy.histogram is deprecated and will be removed in SciPy 2.0.0, use numpy.histogram instead\n",
      "C:\\Users\\USER\\Anaconda3\\lib\\site-packages\\ipykernel_launcher.py:43: DeprecationWarning: scipy.argmax is deprecated and will be removed in SciPy 2.0.0, use numpy.argmax instead\n"
     ]
    },
    {
     "name": "stdout",
     "output_type": "stream",
     "text": [
      "['#e9e9e8', '#b0a18f', '#2d241d', '#b8cad0', '#936140']\n",
      "['#907452', '#a2b1af', '#433724', '#c59e76', '#c2d4de']\n",
      "['#8d593f', '#9e8d80', '#e7e8e7', '#383333', '#c3bfba']\n"
     ]
    },
    {
     "data": {
      "image/png": "[encoded data removed]",
      "text/plain": [
       "<Figure size 432x288 with 1 Axes>"
      ]
     },
     "metadata": {
      "needs_background": "light"
     },
     "output_type": "display_data"
    }
   ],
   "source": [
    "file_name = 'ocean2.jpg'\n",
    "\n",
    "objects = localize_objects(file_name) #bob的function\n",
    "\n",
    "hex_code_array = color_detection(objects, file_name)\n",
    "\n"
   ]
  },
  {
   "cell_type": "markdown",
   "metadata": {},
   "source": [
    "### 顏色偵測"
   ]
  },
  {
   "cell_type": "code",
   "execution_count": 3,
   "metadata": {},
   "outputs": [],
   "source": [
    "# 顏色偵測\n",
    "from __future__ import print_function\n",
    "import binascii\n",
    "import struct\n",
    "from PIL import Image\n",
    "import numpy as np\n",
    "import scipy\n",
    "import scipy.misc\n",
    "import scipy.cluster\n",
    "from PIL import Image \n",
    "import matplotlib.pyplot as plt"
   ]
  },
  {
   "cell_type": "code",
   "execution_count": 37,
   "metadata": {},
   "outputs": [],
   "source": [
    "def crop_image(file_name, location):\n",
    "    \n",
    "    img = Image.open(file_name)\n",
    "    plt.imshow(img)\n",
    "    #取得照片長寬\n",
    "    width, height = img.size \n",
    "    \n",
    "    #得出物件上下左右\n",
    "    left = location[0] * width\n",
    "    top = location[1] * height\n",
    "    right = location[2] * width \n",
    "    bottom = location[3] * height\n",
    "    \n",
    "    #裁切\n",
    "    crop_img = img.crop((left, top, right, bottom)) \n",
    "\n",
    "    plt.imshow(crop_img)\n",
    "    return crop_img\n",
    "\n",
    "def find_dominate_color(file_name, location, resize=False, color_nums=5):\n",
    "    NUM_CLUSTERS = color_nums\n",
    "    hex_code_array = []\n",
    "    \n",
    "    # 照片前處理\n",
    "    try: \n",
    "        im = crop_image(file_name, location)\n",
    "        if resize:\n",
    "            print('start image resize to 150, 150')\n",
    "            im = im.resize((150, 150))      # optional, to reduce time\n",
    "        ar = np.asarray(im)\n",
    "        shape = ar.shape\n",
    "        ar = ar.reshape(scipy.product(shape[:2]), shape[2]).astype(float)\n",
    "    except Exception as e:\n",
    "        print(f'Error: find_dominate_color preprocessing went wrong, exception:{e}')\n",
    "        return []\n",
    "    \n",
    "    # 計算顏色\n",
    "    try:\n",
    "        codes, dist = scipy.cluster.vq.kmeans(ar, NUM_CLUSTERS)\n",
    "        vecs, dist = scipy.cluster.vq.vq(ar, codes)         # assign codes\n",
    "        counts, bins = scipy.histogram(vecs, len(codes))    # count occurrences\n",
    "\n",
    "        index_max = scipy.argmax(counts)                    # find most frequent\n",
    "        peak = codes[index_max]\n",
    "        colour = binascii.hexlify(bytearray(int(c) for c in peak)).decode('ascii')\n",
    "    except Exception as e:\n",
    "        print(f'Error: find_dominate_color clustering went wrong, exception:{e}')\n",
    "              \n",
    "#     print('most frequent is %s (#%s)' % (peak, colour))\n",
    "\n",
    "    # 顏色編碼\n",
    "    for i in codes:\n",
    "        hex_code = '#'+binascii.hexlify(bytearray(int(c) for c in i)).decode('ascii')\n",
    "        hex_code_array.append(hex_code)\n",
    "        \n",
    "    return hex_code_array"
   ]
  },
  {
   "cell_type": "markdown",
   "metadata": {},
   "source": [
    "### 顏色處理"
   ]
  },
  {
   "cell_type": "code",
   "execution_count": null,
   "metadata": {},
   "outputs": [],
   "source": [
    "#顏色處理\n",
    "import webcolors\n",
    "import matplotlib.colors as mc\n",
    "def color_predefine():\n",
    "    CSS3 = webcolors.CSS3_NAMES_TO_HEX\n",
    "    CSS3_r = {}\n",
    "    CSS3['brown'] = '#8B4513'\n",
    "    CSS3['darkbrown'] = '#654321'\n",
    "    CSS3['caramel'] = '#65350F'\n",
    "    CSS3['coffee'] = '#6F4137'\n",
    "    CSS3['darkcoffee'] = '#3B2F2F'\n",
    "    \n",
    "    for k, v in CSS3.items():\n",
    "        CSS3_r[v] = k\n",
    "        print(k,v)\n",
    "    return CSS3, CSS3_r\n",
    "\n",
    "CSS3, CSS3_r = color_predefine()"
   ]
  },
  {
   "cell_type": "code",
   "execution_count": null,
   "metadata": {},
   "outputs": [],
   "source": [
    "def closest_color(requested_color):\n",
    "    min_colors = {}\n",
    "    \n",
    "    #計算最相近的顏色\n",
    "    try:\n",
    "        rgb = webcolors.hex_to_rgb(requested_color)\n",
    "        for key, value in CSS3.items():\n",
    "            r_c, g_c, b_c = webcolors.hex_to_rgb(value)\n",
    "            rd = (r_c - rgb[0]) ** 2\n",
    "            gd = (g_c - rgb[1]) ** 2\n",
    "            bd = (b_c - rgb[2]) ** 2\n",
    "            min_colors[(rd + gd + bd)] = value\n",
    "        nearest_color = min_colors[min(min_colors.keys())]\n",
    "        name = CSS3_r[nearest_color]\n",
    "        return name\n",
    "    except Exception as e:\n",
    "        print(f'Error: closest_color went wrong, exception {e}')\n",
    "        return None\n",
    "        \n",
    "def get_color_name(requested_color, method:str = 'hex'):\n",
    "    print(requested_color[0])\n",
    "    try:\n",
    "        \n",
    "        if method == 'hex' and str(requested_color[0]) == '#':            \n",
    "            closest_name = actual_name = CSS3_r[requested_color]\n",
    "        else:\n",
    "            closest_name = actual_name = webcolors.rgb_to_name(requested_color)\n",
    "    except ValueError:\n",
    "        closest_name = closest_color(requested_color)\n",
    "        actual_name = None\n",
    "    except Exception as e:\n",
    "        closest_name = closest_color(requested_color)\n",
    "        actual_name = None\n",
    "        \n",
    "    return actual_name, closest_name"
   ]
  },
  {
   "cell_type": "code",
   "execution_count": null,
   "metadata": {},
   "outputs": [],
   "source": []
  },
  {
   "cell_type": "code",
   "execution_count": null,
   "metadata": {},
   "outputs": [],
   "source": []
  }
 ],
 "metadata": {
  "kernelspec": {
   "display_name": "Python 3",
   "language": "python",
   "name": "python3"
  },
  "language_info": {
   "codemirror_mode": {
    "name": "ipython",
    "version": 3
   },
   "file_extension": ".py",
   "mimetype": "text/x-python",
   "name": "python",
   "nbconvert_exporter": "python",
   "pygments_lexer": "ipython3",
   "version": "3.7.7"
  }
 },
 "nbformat": 4,
 "nbformat_minor": 4
}
